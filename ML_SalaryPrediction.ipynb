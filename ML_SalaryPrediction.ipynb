{
 "cells": [
  {
   "cell_type": "markdown",
   "id": "ea55a30e-cc36-4d33-819b-aea08258232c",
   "metadata": {},
   "source": [
    "# SALARY PREDICTION REGRESSION MODEL"
   ]
  },
  {
   "cell_type": "code",
   "execution_count": 1,
   "id": "27b6570c-1b12-4949-854b-0088255d97a1",
   "metadata": {
    "tags": []
   },
   "outputs": [],
   "source": [
    "import pandas as pd    # importing pandas library\n",
    "import numpy as np     # importing numpy library"
   ]
  },
  {
   "cell_type": "markdown",
   "id": "13427e96-3fe3-455d-93a9-eb6621c0463c",
   "metadata": {},
   "source": [
    "## Reading the data from the csv files"
   ]
  },
  {
   "cell_type": "code",
   "execution_count": 2,
   "id": "257f78b3-c7d2-4318-8848-ce3d0b08e1c9",
   "metadata": {
    "tags": []
   },
   "outputs": [
    {
     "data": {
      "text/html": [
       "<div>\n",
       "<style scoped>\n",
       "    .dataframe tbody tr th:only-of-type {\n",
       "        vertical-align: middle;\n",
       "    }\n",
       "\n",
       "    .dataframe tbody tr th {\n",
       "        vertical-align: top;\n",
       "    }\n",
       "\n",
       "    .dataframe thead th {\n",
       "        text-align: right;\n",
       "    }\n",
       "</style>\n",
       "<table border=\"1\" class=\"dataframe\">\n",
       "  <thead>\n",
       "    <tr style=\"text-align: right;\">\n",
       "      <th></th>\n",
       "      <th>College</th>\n",
       "      <th>City</th>\n",
       "      <th>Role</th>\n",
       "      <th>Previous CTC</th>\n",
       "      <th>Previous job change</th>\n",
       "      <th>Graduation Marks</th>\n",
       "      <th>EXP (Month)</th>\n",
       "      <th>CTC</th>\n",
       "    </tr>\n",
       "  </thead>\n",
       "  <tbody>\n",
       "    <tr>\n",
       "      <th>0</th>\n",
       "      <td>SVNIT Surat</td>\n",
       "      <td>Asansol</td>\n",
       "      <td>Manager</td>\n",
       "      <td>55523.0</td>\n",
       "      <td>3</td>\n",
       "      <td>66</td>\n",
       "      <td>19</td>\n",
       "      <td>71406.58</td>\n",
       "    </tr>\n",
       "    <tr>\n",
       "      <th>1</th>\n",
       "      <td>NIT Bhopal</td>\n",
       "      <td>Ajmer</td>\n",
       "      <td>Executive</td>\n",
       "      <td>57081.0</td>\n",
       "      <td>1</td>\n",
       "      <td>84</td>\n",
       "      <td>18</td>\n",
       "      <td>68005.87</td>\n",
       "    </tr>\n",
       "    <tr>\n",
       "      <th>2</th>\n",
       "      <td>IEM, Kolkata</td>\n",
       "      <td>Rajpur Sonarpur</td>\n",
       "      <td>Executive</td>\n",
       "      <td>60347.0</td>\n",
       "      <td>2</td>\n",
       "      <td>52</td>\n",
       "      <td>28</td>\n",
       "      <td>76764.02</td>\n",
       "    </tr>\n",
       "    <tr>\n",
       "      <th>3</th>\n",
       "      <td>KIIT, Bhubaneswar</td>\n",
       "      <td>Ajmer</td>\n",
       "      <td>Executive</td>\n",
       "      <td>49010.0</td>\n",
       "      <td>2</td>\n",
       "      <td>81</td>\n",
       "      <td>33</td>\n",
       "      <td>82092.39</td>\n",
       "    </tr>\n",
       "    <tr>\n",
       "      <th>4</th>\n",
       "      <td>DTU</td>\n",
       "      <td>Durgapur</td>\n",
       "      <td>Executive</td>\n",
       "      <td>57879.0</td>\n",
       "      <td>4</td>\n",
       "      <td>74</td>\n",
       "      <td>32</td>\n",
       "      <td>73878.10</td>\n",
       "    </tr>\n",
       "  </tbody>\n",
       "</table>\n",
       "</div>"
      ],
      "text/plain": [
       "             College             City       Role  Previous CTC  \\\n",
       "0        SVNIT Surat          Asansol    Manager       55523.0   \n",
       "1         NIT Bhopal            Ajmer  Executive       57081.0   \n",
       "2       IEM, Kolkata  Rajpur Sonarpur  Executive       60347.0   \n",
       "3  KIIT, Bhubaneswar            Ajmer  Executive       49010.0   \n",
       "4                DTU         Durgapur  Executive       57879.0   \n",
       "\n",
       "   Previous job change  Graduation Marks  EXP (Month)       CTC  \n",
       "0                    3                66           19  71406.58  \n",
       "1                    1                84           18  68005.87  \n",
       "2                    2                52           28  76764.02  \n",
       "3                    2                81           33  82092.39  \n",
       "4                    4                74           32  73878.10  "
      ]
     },
     "execution_count": 2,
     "metadata": {},
     "output_type": "execute_result"
    }
   ],
   "source": [
    "df = pd.read_csv('ML case Study.csv')   # reading,converting and storing the data as Dataframe using pandas\n",
    "df.head()                               # printing the top 5 values in the data"
   ]
  },
  {
   "cell_type": "code",
   "execution_count": 3,
   "id": "8900b7cd-839f-49e0-9c9a-d27555c3d250",
   "metadata": {},
   "outputs": [
    {
     "data": {
      "text/html": [
       "<div>\n",
       "<style scoped>\n",
       "    .dataframe tbody tr th:only-of-type {\n",
       "        vertical-align: middle;\n",
       "    }\n",
       "\n",
       "    .dataframe tbody tr th {\n",
       "        vertical-align: top;\n",
       "    }\n",
       "\n",
       "    .dataframe thead th {\n",
       "        text-align: right;\n",
       "    }\n",
       "</style>\n",
       "<table border=\"1\" class=\"dataframe\">\n",
       "  <thead>\n",
       "    <tr style=\"text-align: right;\">\n",
       "      <th></th>\n",
       "      <th>Tier 1</th>\n",
       "      <th>Tier 2</th>\n",
       "      <th>Tier 3</th>\n",
       "    </tr>\n",
       "  </thead>\n",
       "  <tbody>\n",
       "    <tr>\n",
       "      <th>0</th>\n",
       "      <td>IIT Bombay</td>\n",
       "      <td>IIIT Bangalore</td>\n",
       "      <td>Ramaiah Institute of Technology, Bengaluru</td>\n",
       "    </tr>\n",
       "    <tr>\n",
       "      <th>1</th>\n",
       "      <td>IIT Delhi</td>\n",
       "      <td>IIIT Delhi</td>\n",
       "      <td>TIET/Thapar University</td>\n",
       "    </tr>\n",
       "    <tr>\n",
       "      <th>2</th>\n",
       "      <td>IIT Kharagpur</td>\n",
       "      <td>IGDTUW</td>\n",
       "      <td>Manipal Main Campus</td>\n",
       "    </tr>\n",
       "    <tr>\n",
       "      <th>3</th>\n",
       "      <td>IIT Madras</td>\n",
       "      <td>NIT Calicut</td>\n",
       "      <td>VIT Vellore</td>\n",
       "    </tr>\n",
       "    <tr>\n",
       "      <th>4</th>\n",
       "      <td>IIT Kanpur</td>\n",
       "      <td>IIITM Gwalior</td>\n",
       "      <td>SRM Main Campus</td>\n",
       "    </tr>\n",
       "  </tbody>\n",
       "</table>\n",
       "</div>"
      ],
      "text/plain": [
       "          Tier 1          Tier 2                                      Tier 3\n",
       "0     IIT Bombay  IIIT Bangalore  Ramaiah Institute of Technology, Bengaluru\n",
       "1      IIT Delhi      IIIT Delhi                      TIET/Thapar University\n",
       "2  IIT Kharagpur          IGDTUW                         Manipal Main Campus\n",
       "3     IIT Madras     NIT Calicut                                 VIT Vellore\n",
       "4     IIT Kanpur   IIITM Gwalior                             SRM Main Campus"
      ]
     },
     "execution_count": 3,
     "metadata": {},
     "output_type": "execute_result"
    }
   ],
   "source": [
    "college = pd.read_csv('Colleges.csv')   # converting the college csv file into dataframe\n",
    "college.head()"
   ]
  },
  {
   "cell_type": "code",
   "execution_count": 4,
   "id": "80124f62-94d3-4fbc-a444-d6141eb73dcd",
   "metadata": {
    "tags": []
   },
   "outputs": [
    {
     "data": {
      "text/html": [
       "<div>\n",
       "<style scoped>\n",
       "    .dataframe tbody tr th:only-of-type {\n",
       "        vertical-align: middle;\n",
       "    }\n",
       "\n",
       "    .dataframe tbody tr th {\n",
       "        vertical-align: top;\n",
       "    }\n",
       "\n",
       "    .dataframe thead th {\n",
       "        text-align: right;\n",
       "    }\n",
       "</style>\n",
       "<table border=\"1\" class=\"dataframe\">\n",
       "  <thead>\n",
       "    <tr style=\"text-align: right;\">\n",
       "      <th></th>\n",
       "      <th>Metrio City</th>\n",
       "      <th>non-metro cities</th>\n",
       "    </tr>\n",
       "  </thead>\n",
       "  <tbody>\n",
       "    <tr>\n",
       "      <th>0</th>\n",
       "      <td>Mumbai</td>\n",
       "      <td>Dehradun</td>\n",
       "    </tr>\n",
       "    <tr>\n",
       "      <th>1</th>\n",
       "      <td>Delhi</td>\n",
       "      <td>Durgapur</td>\n",
       "    </tr>\n",
       "    <tr>\n",
       "      <th>2</th>\n",
       "      <td>Kolkata</td>\n",
       "      <td>Asansol</td>\n",
       "    </tr>\n",
       "    <tr>\n",
       "      <th>3</th>\n",
       "      <td>Chennai</td>\n",
       "      <td>Rourkela</td>\n",
       "    </tr>\n",
       "    <tr>\n",
       "      <th>4</th>\n",
       "      <td>Bangalore</td>\n",
       "      <td>Kozhikode</td>\n",
       "    </tr>\n",
       "  </tbody>\n",
       "</table>\n",
       "</div>"
      ],
      "text/plain": [
       "  Metrio City non-metro cities\n",
       "0      Mumbai         Dehradun\n",
       "1       Delhi         Durgapur\n",
       "2     Kolkata          Asansol\n",
       "3     Chennai         Rourkela\n",
       "4   Bangalore        Kozhikode"
      ]
     },
     "execution_count": 4,
     "metadata": {},
     "output_type": "execute_result"
    }
   ],
   "source": [
    "city = pd.read_csv('cities.csv')    # converting the city csv into dataframe\n",
    "city.head()"
   ]
  },
  {
   "cell_type": "markdown",
   "id": "30820cb9-bec4-4ce0-a0d7-31f8b72cdcc4",
   "metadata": {},
   "source": [
    "## Checking for Missing values"
   ]
  },
  {
   "cell_type": "code",
   "execution_count": 5,
   "id": "71b5314b-4fce-46a9-95bc-754567729fc9",
   "metadata": {
    "tags": []
   },
   "outputs": [
    {
     "data": {
      "text/plain": [
       "College                0\n",
       "City                   0\n",
       "Role                   0\n",
       "Previous CTC           0\n",
       "Previous job change    0\n",
       "Graduation Marks       0\n",
       "EXP (Month)            0\n",
       "CTC                    0\n",
       "dtype: int64"
      ]
     },
     "execution_count": 5,
     "metadata": {},
     "output_type": "execute_result"
    }
   ],
   "source": [
    "df.isna().sum()    # checking for null values in all the columns"
   ]
  },
  {
   "cell_type": "markdown",
   "id": "7293feeb-a3d1-48d5-b997-60dbd0030e8e",
   "metadata": {},
   "source": [
    "### NO null values found"
   ]
  },
  {
   "cell_type": "code",
   "execution_count": 6,
   "id": "a6c8fcd0-ef1e-43b1-b549-c771ff307924",
   "metadata": {
    "tags": []
   },
   "outputs": [
    {
     "name": "stdout",
     "output_type": "stream",
     "text": [
      "<class 'pandas.core.frame.DataFrame'>\n",
      "RangeIndex: 1589 entries, 0 to 1588\n",
      "Data columns (total 8 columns):\n",
      " #   Column               Non-Null Count  Dtype  \n",
      "---  ------               --------------  -----  \n",
      " 0   College              1589 non-null   object \n",
      " 1   City                 1589 non-null   object \n",
      " 2   Role                 1589 non-null   object \n",
      " 3   Previous CTC         1589 non-null   float64\n",
      " 4   Previous job change  1589 non-null   int64  \n",
      " 5   Graduation Marks     1589 non-null   int64  \n",
      " 6   EXP (Month)          1589 non-null   int64  \n",
      " 7   CTC                  1589 non-null   float64\n",
      "dtypes: float64(2), int64(3), object(3)\n",
      "memory usage: 99.4+ KB\n"
     ]
    }
   ],
   "source": [
    "df.info()      # checking for the data type of all the columns"
   ]
  },
  {
   "cell_type": "markdown",
   "id": "650b30e6-0a6a-420c-9594-94a7eca1e0b8",
   "metadata": {},
   "source": [
    "## Checking for Outliers"
   ]
  },
  {
   "cell_type": "code",
   "execution_count": 7,
   "id": "5ecfbaca-1d01-4a01-bf79-f78fd5feb529",
   "metadata": {
    "tags": []
   },
   "outputs": [
    {
     "data": {
      "text/html": [
       "<div>\n",
       "<style scoped>\n",
       "    .dataframe tbody tr th:only-of-type {\n",
       "        vertical-align: middle;\n",
       "    }\n",
       "\n",
       "    .dataframe tbody tr th {\n",
       "        vertical-align: top;\n",
       "    }\n",
       "\n",
       "    .dataframe thead th {\n",
       "        text-align: right;\n",
       "    }\n",
       "</style>\n",
       "<table border=\"1\" class=\"dataframe\">\n",
       "  <thead>\n",
       "    <tr style=\"text-align: right;\">\n",
       "      <th></th>\n",
       "      <th>Previous CTC</th>\n",
       "      <th>Previous job change</th>\n",
       "      <th>Graduation Marks</th>\n",
       "      <th>EXP (Month)</th>\n",
       "      <th>CTC</th>\n",
       "    </tr>\n",
       "  </thead>\n",
       "  <tbody>\n",
       "    <tr>\n",
       "      <th>count</th>\n",
       "      <td>1589.000000</td>\n",
       "      <td>1589.000000</td>\n",
       "      <td>1589.000000</td>\n",
       "      <td>1589.000000</td>\n",
       "      <td>1589.000000</td>\n",
       "    </tr>\n",
       "    <tr>\n",
       "      <th>mean</th>\n",
       "      <td>55518.453744</td>\n",
       "      <td>2.528634</td>\n",
       "      <td>59.855255</td>\n",
       "      <td>39.044682</td>\n",
       "      <td>75353.278798</td>\n",
       "    </tr>\n",
       "    <tr>\n",
       "      <th>std</th>\n",
       "      <td>6655.218445</td>\n",
       "      <td>1.123918</td>\n",
       "      <td>14.935139</td>\n",
       "      <td>14.108875</td>\n",
       "      <td>12587.288237</td>\n",
       "    </tr>\n",
       "    <tr>\n",
       "      <th>min</th>\n",
       "      <td>36990.000000</td>\n",
       "      <td>1.000000</td>\n",
       "      <td>35.000000</td>\n",
       "      <td>18.000000</td>\n",
       "      <td>53020.320000</td>\n",
       "    </tr>\n",
       "    <tr>\n",
       "      <th>25%</th>\n",
       "      <td>50518.000000</td>\n",
       "      <td>2.000000</td>\n",
       "      <td>46.000000</td>\n",
       "      <td>26.000000</td>\n",
       "      <td>66902.350000</td>\n",
       "    </tr>\n",
       "    <tr>\n",
       "      <th>50%</th>\n",
       "      <td>55291.000000</td>\n",
       "      <td>3.000000</td>\n",
       "      <td>60.000000</td>\n",
       "      <td>39.000000</td>\n",
       "      <td>73028.670000</td>\n",
       "    </tr>\n",
       "    <tr>\n",
       "      <th>75%</th>\n",
       "      <td>60109.000000</td>\n",
       "      <td>4.000000</td>\n",
       "      <td>73.000000</td>\n",
       "      <td>51.000000</td>\n",
       "      <td>80588.670000</td>\n",
       "    </tr>\n",
       "    <tr>\n",
       "      <th>max</th>\n",
       "      <td>77911.000000</td>\n",
       "      <td>4.000000</td>\n",
       "      <td>85.000000</td>\n",
       "      <td>64.000000</td>\n",
       "      <td>123416.990000</td>\n",
       "    </tr>\n",
       "  </tbody>\n",
       "</table>\n",
       "</div>"
      ],
      "text/plain": [
       "       Previous CTC  Previous job change  Graduation Marks  EXP (Month)  \\\n",
       "count   1589.000000          1589.000000       1589.000000  1589.000000   \n",
       "mean   55518.453744             2.528634         59.855255    39.044682   \n",
       "std     6655.218445             1.123918         14.935139    14.108875   \n",
       "min    36990.000000             1.000000         35.000000    18.000000   \n",
       "25%    50518.000000             2.000000         46.000000    26.000000   \n",
       "50%    55291.000000             3.000000         60.000000    39.000000   \n",
       "75%    60109.000000             4.000000         73.000000    51.000000   \n",
       "max    77911.000000             4.000000         85.000000    64.000000   \n",
       "\n",
       "                 CTC  \n",
       "count    1589.000000  \n",
       "mean    75353.278798  \n",
       "std     12587.288237  \n",
       "min     53020.320000  \n",
       "25%     66902.350000  \n",
       "50%     73028.670000  \n",
       "75%     80588.670000  \n",
       "max    123416.990000  "
      ]
     },
     "execution_count": 7,
     "metadata": {},
     "output_type": "execute_result"
    }
   ],
   "source": [
    "df.describe()    # checking mean, standard deviations and outliers"
   ]
  },
  {
   "cell_type": "markdown",
   "id": "ff084393-de72-47ed-9271-aa3818c652d9",
   "metadata": {},
   "source": [
    "## VISUALIZATIONS TO FIND OUTLIERS"
   ]
  },
  {
   "cell_type": "code",
   "execution_count": 8,
   "id": "a2e66fa6-0f51-409c-84b5-d9b8891a80d2",
   "metadata": {
    "tags": []
   },
   "outputs": [],
   "source": [
    "import seaborn as sns                  # importing seaborn library\n",
    "import matplotlib.pyplot as plt        # importing matplotlib library\n",
    "%matplotlib inline"
   ]
  },
  {
   "cell_type": "code",
   "execution_count": 9,
   "id": "b40fec85-9a11-4bf2-90eb-19c41323a8a9",
   "metadata": {
    "tags": []
   },
   "outputs": [
    {
     "data": {
      "image/png": "[encoded data removed]",
      "text/plain": [
       "<Figure size 1500x900 with 5 Axes>"
      ]
     },
     "metadata": {},
     "output_type": "display_data"
    }
   ],
   "source": [
    "col = ['Previous CTC', 'Previous job change','Graduation Marks', 'EXP (Month)', 'CTC']     # columns for which boxplot is needed\n",
    "plt.figure(figsize=(15,9))                                                                 # setting the size of the plotted graphs\n",
    "for i in range(5):\n",
    "    plt.subplot(2,3,i+1)                                                                   # printing the boxplot in row wise\n",
    "    plt.title(col[i])                                                                      # printing title for each boxplot\n",
    "    sns.boxplot(df[col[i]])                                                                # plotting the boxplot"
   ]
  },
  {
   "cell_type": "markdown",
   "id": "414ee515-ba68-4beb-adcc-11310c7cb3d8",
   "metadata": {},
   "source": [
    "### Found outliers in 'Previous CTC' and 'CTC' variable"
   ]
  },
  {
   "cell_type": "markdown",
   "id": "28f59b54-e35a-4971-8b2f-22ee5053446c",
   "metadata": {},
   "source": [
    "## Scaling the Outliers to improve the model"
   ]
  },
  {
   "cell_type": "code",
   "execution_count": 10,
   "id": "77c0d8cb-52da-4318-9dbc-2e1d11cfab95",
   "metadata": {
    "tags": []
   },
   "outputs": [],
   "source": [
    "uv_p_ctc = np.percentile(df['Previous CTC'],[99])[0]    # Finding the value at 99 percentitle in 'Previous CTC' variable"
   ]
  },
  {
   "cell_type": "code",
   "execution_count": 11,
   "id": "e916573f-b585-4c06-8e95-dc4c262abace",
   "metadata": {
    "tags": []
   },
   "outputs": [
    {
     "data": {
      "text/html": [
       "<div>\n",
       "<style scoped>\n",
       "    .dataframe tbody tr th:only-of-type {\n",
       "        vertical-align: middle;\n",
       "    }\n",
       "\n",
       "    .dataframe tbody tr th {\n",
       "        vertical-align: top;\n",
       "    }\n",
       "\n",
       "    .dataframe thead th {\n",
       "        text-align: right;\n",
       "    }\n",
       "</style>\n",
       "<table border=\"1\" class=\"dataframe\">\n",
       "  <thead>\n",
       "    <tr style=\"text-align: right;\">\n",
       "      <th></th>\n",
       "      <th>College</th>\n",
       "      <th>City</th>\n",
       "      <th>Role</th>\n",
       "      <th>Previous CTC</th>\n",
       "      <th>Previous job change</th>\n",
       "      <th>Graduation Marks</th>\n",
       "      <th>EXP (Month)</th>\n",
       "      <th>CTC</th>\n",
       "    </tr>\n",
       "  </thead>\n",
       "  <tbody>\n",
       "    <tr>\n",
       "      <th>116</th>\n",
       "      <td>MSIT, Delhi</td>\n",
       "      <td>Delhi</td>\n",
       "      <td>Executive</td>\n",
       "      <td>77911.0</td>\n",
       "      <td>1</td>\n",
       "      <td>50</td>\n",
       "      <td>58</td>\n",
       "      <td>87831.62</td>\n",
       "    </tr>\n",
       "    <tr>\n",
       "      <th>292</th>\n",
       "      <td>USIT, Delhi</td>\n",
       "      <td>Kozhikode</td>\n",
       "      <td>Manager</td>\n",
       "      <td>74198.0</td>\n",
       "      <td>1</td>\n",
       "      <td>57</td>\n",
       "      <td>25</td>\n",
       "      <td>99644.51</td>\n",
       "    </tr>\n",
       "    <tr>\n",
       "      <th>543</th>\n",
       "      <td>NSUT Delhi (NSIT)</td>\n",
       "      <td>Kolkata</td>\n",
       "      <td>Manager</td>\n",
       "      <td>73856.0</td>\n",
       "      <td>1</td>\n",
       "      <td>75</td>\n",
       "      <td>54</td>\n",
       "      <td>121362.73</td>\n",
       "    </tr>\n",
       "    <tr>\n",
       "      <th>572</th>\n",
       "      <td>IIT ISM Dhanbad</td>\n",
       "      <td>Surat</td>\n",
       "      <td>Executive</td>\n",
       "      <td>71543.0</td>\n",
       "      <td>4</td>\n",
       "      <td>82</td>\n",
       "      <td>30</td>\n",
       "      <td>61366.78</td>\n",
       "    </tr>\n",
       "    <tr>\n",
       "      <th>701</th>\n",
       "      <td>DAIICT</td>\n",
       "      <td>Kozhikode</td>\n",
       "      <td>Executive</td>\n",
       "      <td>71549.0</td>\n",
       "      <td>4</td>\n",
       "      <td>47</td>\n",
       "      <td>50</td>\n",
       "      <td>83116.21</td>\n",
       "    </tr>\n",
       "    <tr>\n",
       "      <th>847</th>\n",
       "      <td>NIT Warangal</td>\n",
       "      <td>Kolkata</td>\n",
       "      <td>Executive</td>\n",
       "      <td>71756.0</td>\n",
       "      <td>4</td>\n",
       "      <td>67</td>\n",
       "      <td>23</td>\n",
       "      <td>72141.43</td>\n",
       "    </tr>\n",
       "    <tr>\n",
       "      <th>860</th>\n",
       "      <td>BITS Pilani (Goa Campus)</td>\n",
       "      <td>Delhi</td>\n",
       "      <td>Manager</td>\n",
       "      <td>75785.0</td>\n",
       "      <td>4</td>\n",
       "      <td>63</td>\n",
       "      <td>37</td>\n",
       "      <td>110338.25</td>\n",
       "    </tr>\n",
       "    <tr>\n",
       "      <th>941</th>\n",
       "      <td>Manipal Main Campus</td>\n",
       "      <td>Chennai</td>\n",
       "      <td>Executive</td>\n",
       "      <td>72319.0</td>\n",
       "      <td>1</td>\n",
       "      <td>51</td>\n",
       "      <td>50</td>\n",
       "      <td>63538.43</td>\n",
       "    </tr>\n",
       "    <tr>\n",
       "      <th>1024</th>\n",
       "      <td>IIT Kharagpur</td>\n",
       "      <td>Bangalore</td>\n",
       "      <td>Executive</td>\n",
       "      <td>72661.0</td>\n",
       "      <td>3</td>\n",
       "      <td>74</td>\n",
       "      <td>47</td>\n",
       "      <td>70238.70</td>\n",
       "    </tr>\n",
       "    <tr>\n",
       "      <th>1047</th>\n",
       "      <td>IIT BHU (Varanasi)</td>\n",
       "      <td>Kolhapur</td>\n",
       "      <td>Manager</td>\n",
       "      <td>73214.0</td>\n",
       "      <td>4</td>\n",
       "      <td>57</td>\n",
       "      <td>22</td>\n",
       "      <td>100119.53</td>\n",
       "    </tr>\n",
       "    <tr>\n",
       "      <th>1067</th>\n",
       "      <td>Heritage Institute of Technology, Kolkata</td>\n",
       "      <td>Asansol</td>\n",
       "      <td>Executive</td>\n",
       "      <td>71760.0</td>\n",
       "      <td>4</td>\n",
       "      <td>40</td>\n",
       "      <td>39</td>\n",
       "      <td>71187.52</td>\n",
       "    </tr>\n",
       "    <tr>\n",
       "      <th>1088</th>\n",
       "      <td>USIT, Delhi</td>\n",
       "      <td>Chennai</td>\n",
       "      <td>Executive</td>\n",
       "      <td>76815.0</td>\n",
       "      <td>4</td>\n",
       "      <td>75</td>\n",
       "      <td>52</td>\n",
       "      <td>82684.17</td>\n",
       "    </tr>\n",
       "    <tr>\n",
       "      <th>1131</th>\n",
       "      <td>NIT Kurukshetra</td>\n",
       "      <td>Hyderabad</td>\n",
       "      <td>Executive</td>\n",
       "      <td>74256.0</td>\n",
       "      <td>2</td>\n",
       "      <td>40</td>\n",
       "      <td>27</td>\n",
       "      <td>83023.18</td>\n",
       "    </tr>\n",
       "    <tr>\n",
       "      <th>1317</th>\n",
       "      <td>IIT Ropar</td>\n",
       "      <td>Rajpur Sonarpur</td>\n",
       "      <td>Executive</td>\n",
       "      <td>76070.0</td>\n",
       "      <td>2</td>\n",
       "      <td>54</td>\n",
       "      <td>18</td>\n",
       "      <td>58309.56</td>\n",
       "    </tr>\n",
       "    <tr>\n",
       "      <th>1332</th>\n",
       "      <td>Dayanand College of Engineering, Bangalore</td>\n",
       "      <td>Ahmedabad</td>\n",
       "      <td>Executive</td>\n",
       "      <td>72649.0</td>\n",
       "      <td>3</td>\n",
       "      <td>69</td>\n",
       "      <td>52</td>\n",
       "      <td>78861.46</td>\n",
       "    </tr>\n",
       "    <tr>\n",
       "      <th>1454</th>\n",
       "      <td>BITS Pilani (Pilani Campus)</td>\n",
       "      <td>Chennai</td>\n",
       "      <td>Executive</td>\n",
       "      <td>77911.0</td>\n",
       "      <td>1</td>\n",
       "      <td>50</td>\n",
       "      <td>58</td>\n",
       "      <td>87831.62</td>\n",
       "    </tr>\n",
       "  </tbody>\n",
       "</table>\n",
       "</div>"
      ],
      "text/plain": [
       "                                         College             City       Role  \\\n",
       "116                                  MSIT, Delhi            Delhi  Executive   \n",
       "292                                  USIT, Delhi        Kozhikode    Manager   \n",
       "543                            NSUT Delhi (NSIT)          Kolkata    Manager   \n",
       "572                              IIT ISM Dhanbad            Surat  Executive   \n",
       "701                                       DAIICT        Kozhikode  Executive   \n",
       "847                                 NIT Warangal          Kolkata  Executive   \n",
       "860                     BITS Pilani (Goa Campus)            Delhi    Manager   \n",
       "941                          Manipal Main Campus          Chennai  Executive   \n",
       "1024                               IIT Kharagpur        Bangalore  Executive   \n",
       "1047                          IIT BHU (Varanasi)         Kolhapur    Manager   \n",
       "1067   Heritage Institute of Technology, Kolkata          Asansol  Executive   \n",
       "1088                                 USIT, Delhi          Chennai  Executive   \n",
       "1131                             NIT Kurukshetra        Hyderabad  Executive   \n",
       "1317                                   IIT Ropar  Rajpur Sonarpur  Executive   \n",
       "1332  Dayanand College of Engineering, Bangalore        Ahmedabad  Executive   \n",
       "1454                 BITS Pilani (Pilani Campus)          Chennai  Executive   \n",
       "\n",
       "      Previous CTC  Previous job change  Graduation Marks  EXP (Month)  \\\n",
       "116        77911.0                    1                50           58   \n",
       "292        74198.0                    1                57           25   \n",
       "543        73856.0                    1                75           54   \n",
       "572        71543.0                    4                82           30   \n",
       "701        71549.0                    4                47           50   \n",
       "847        71756.0                    4                67           23   \n",
       "860        75785.0                    4                63           37   \n",
       "941        72319.0                    1                51           50   \n",
       "1024       72661.0                    3                74           47   \n",
       "1047       73214.0                    4                57           22   \n",
       "1067       71760.0                    4                40           39   \n",
       "1088       76815.0                    4                75           52   \n",
       "1131       74256.0                    2                40           27   \n",
       "1317       76070.0                    2                54           18   \n",
       "1332       72649.0                    3                69           52   \n",
       "1454       77911.0                    1                50           58   \n",
       "\n",
       "            CTC  \n",
       "116    87831.62  \n",
       "292    99644.51  \n",
       "543   121362.73  \n",
       "572    61366.78  \n",
       "701    83116.21  \n",
       "847    72141.43  \n",
       "860   110338.25  \n",
       "941    63538.43  \n",
       "1024   70238.70  \n",
       "1047  100119.53  \n",
       "1067   71187.52  \n",
       "1088   82684.17  \n",
       "1131   83023.18  \n",
       "1317   58309.56  \n",
       "1332   78861.46  \n",
       "1454   87831.62  "
      ]
     },
     "execution_count": 11,
     "metadata": {},
     "output_type": "execute_result"
    }
   ],
   "source": [
    "df[(df['Previous CTC'] > uv_p_ctc)]       # Finding all th values which has 'Previous CTC' above the 99% value"
   ]
  },
  {
   "cell_type": "code",
   "execution_count": 12,
   "id": "845cad28-b6d9-45d2-bee6-c6e403b23319",
   "metadata": {
    "tags": []
   },
   "outputs": [
    {
     "data": {
      "text/html": [
       "<div>\n",
       "<style scoped>\n",
       "    .dataframe tbody tr th:only-of-type {\n",
       "        vertical-align: middle;\n",
       "    }\n",
       "\n",
       "    .dataframe tbody tr th {\n",
       "        vertical-align: top;\n",
       "    }\n",
       "\n",
       "    .dataframe thead th {\n",
       "        text-align: right;\n",
       "    }\n",
       "</style>\n",
       "<table border=\"1\" class=\"dataframe\">\n",
       "  <thead>\n",
       "    <tr style=\"text-align: right;\">\n",
       "      <th></th>\n",
       "      <th>College</th>\n",
       "      <th>City</th>\n",
       "      <th>Role</th>\n",
       "      <th>Previous CTC</th>\n",
       "      <th>Previous job change</th>\n",
       "      <th>Graduation Marks</th>\n",
       "      <th>EXP (Month)</th>\n",
       "      <th>CTC</th>\n",
       "    </tr>\n",
       "  </thead>\n",
       "  <tbody>\n",
       "  </tbody>\n",
       "</table>\n",
       "</div>"
      ],
      "text/plain": [
       "Empty DataFrame\n",
       "Columns: [College, City, Role, Previous CTC, Previous job change, Graduation Marks, EXP (Month), CTC]\n",
       "Index: []"
      ]
     },
     "execution_count": 12,
     "metadata": {},
     "output_type": "execute_result"
    }
   ],
   "source": [
    "df[(df['Previous CTC'] > 2*uv_p_ctc)]                  # checking for extreme outliers which are more than 2 times the 99% value"
   ]
  },
  {
   "cell_type": "markdown",
   "id": "ab5e2683-94e7-40d1-af8f-edab5fbdebe7",
   "metadata": {},
   "source": [
    "### We found some outliers in the 'Previous CTC' variable but to avoid aggressive capping a multiplier '2' was used but we could not find any extreme outliers which were far apart (that is greater than 2 times the 99% value)"
   ]
  },
  {
   "cell_type": "code",
   "execution_count": 13,
   "id": "3e8ad9d9-3c0d-4b89-a635-40df6df48e2e",
   "metadata": {
    "tags": []
   },
   "outputs": [
    {
     "data": {
      "text/plain": [
       "112826.26"
      ]
     },
     "execution_count": 13,
     "metadata": {},
     "output_type": "execute_result"
    }
   ],
   "source": [
    "uv_ctc = np.percentile(df['CTC'],[99])[0]                        # Finding the value at 99 percentitle in 'CTC' variable\n",
    "uv_ctc"
   ]
  },
  {
   "cell_type": "code",
   "execution_count": 14,
   "id": "7818aafb-ba0a-4132-a2ef-31a113b29975",
   "metadata": {
    "tags": []
   },
   "outputs": [
    {
     "data": {
      "text/html": [
       "<div>\n",
       "<style scoped>\n",
       "    .dataframe tbody tr th:only-of-type {\n",
       "        vertical-align: middle;\n",
       "    }\n",
       "\n",
       "    .dataframe tbody tr th {\n",
       "        vertical-align: top;\n",
       "    }\n",
       "\n",
       "    .dataframe thead th {\n",
       "        text-align: right;\n",
       "    }\n",
       "</style>\n",
       "<table border=\"1\" class=\"dataframe\">\n",
       "  <thead>\n",
       "    <tr style=\"text-align: right;\">\n",
       "      <th></th>\n",
       "      <th>College</th>\n",
       "      <th>City</th>\n",
       "      <th>Role</th>\n",
       "      <th>Previous CTC</th>\n",
       "      <th>Previous job change</th>\n",
       "      <th>Graduation Marks</th>\n",
       "      <th>EXP (Month)</th>\n",
       "      <th>CTC</th>\n",
       "    </tr>\n",
       "  </thead>\n",
       "  <tbody>\n",
       "    <tr>\n",
       "      <th>34</th>\n",
       "      <td>IIIT Hyderabad</td>\n",
       "      <td>Durgapur</td>\n",
       "      <td>Manager</td>\n",
       "      <td>60894.0</td>\n",
       "      <td>4</td>\n",
       "      <td>80</td>\n",
       "      <td>28</td>\n",
       "      <td>118651.89</td>\n",
       "    </tr>\n",
       "    <tr>\n",
       "      <th>185</th>\n",
       "      <td>IIIT Lucknow</td>\n",
       "      <td>Durgapur</td>\n",
       "      <td>Manager</td>\n",
       "      <td>70258.0</td>\n",
       "      <td>4</td>\n",
       "      <td>38</td>\n",
       "      <td>36</td>\n",
       "      <td>115126.75</td>\n",
       "    </tr>\n",
       "    <tr>\n",
       "      <th>254</th>\n",
       "      <td>NIT Kurukshetra</td>\n",
       "      <td>Bangalore</td>\n",
       "      <td>Manager</td>\n",
       "      <td>51912.0</td>\n",
       "      <td>2</td>\n",
       "      <td>66</td>\n",
       "      <td>50</td>\n",
       "      <td>113141.14</td>\n",
       "    </tr>\n",
       "    <tr>\n",
       "      <th>328</th>\n",
       "      <td>KIIT, Bhubaneswar</td>\n",
       "      <td>Kolhapur</td>\n",
       "      <td>Manager</td>\n",
       "      <td>62264.0</td>\n",
       "      <td>2</td>\n",
       "      <td>52</td>\n",
       "      <td>64</td>\n",
       "      <td>114996.23</td>\n",
       "    </tr>\n",
       "    <tr>\n",
       "      <th>543</th>\n",
       "      <td>NSUT Delhi (NSIT)</td>\n",
       "      <td>Kolkata</td>\n",
       "      <td>Manager</td>\n",
       "      <td>73856.0</td>\n",
       "      <td>1</td>\n",
       "      <td>75</td>\n",
       "      <td>54</td>\n",
       "      <td>121362.73</td>\n",
       "    </tr>\n",
       "    <tr>\n",
       "      <th>577</th>\n",
       "      <td>TIET/Thapar University</td>\n",
       "      <td>Chennai</td>\n",
       "      <td>Manager</td>\n",
       "      <td>59101.0</td>\n",
       "      <td>3</td>\n",
       "      <td>56</td>\n",
       "      <td>31</td>\n",
       "      <td>113843.16</td>\n",
       "    </tr>\n",
       "    <tr>\n",
       "      <th>668</th>\n",
       "      <td>IIT Delhi</td>\n",
       "      <td>Delhi</td>\n",
       "      <td>Manager</td>\n",
       "      <td>60476.0</td>\n",
       "      <td>1</td>\n",
       "      <td>85</td>\n",
       "      <td>62</td>\n",
       "      <td>113212.07</td>\n",
       "    </tr>\n",
       "    <tr>\n",
       "      <th>883</th>\n",
       "      <td>Amity University</td>\n",
       "      <td>Chennai</td>\n",
       "      <td>Manager</td>\n",
       "      <td>64930.0</td>\n",
       "      <td>1</td>\n",
       "      <td>66</td>\n",
       "      <td>51</td>\n",
       "      <td>114939.65</td>\n",
       "    </tr>\n",
       "    <tr>\n",
       "      <th>1146</th>\n",
       "      <td>BITS Pilani (Goa Campus)</td>\n",
       "      <td>Kolkata</td>\n",
       "      <td>Manager</td>\n",
       "      <td>61709.0</td>\n",
       "      <td>4</td>\n",
       "      <td>39</td>\n",
       "      <td>60</td>\n",
       "      <td>117207.24</td>\n",
       "    </tr>\n",
       "    <tr>\n",
       "      <th>1230</th>\n",
       "      <td>IIIT Lucknow</td>\n",
       "      <td>Asansol</td>\n",
       "      <td>Manager</td>\n",
       "      <td>60298.0</td>\n",
       "      <td>1</td>\n",
       "      <td>47</td>\n",
       "      <td>52</td>\n",
       "      <td>123416.99</td>\n",
       "    </tr>\n",
       "    <tr>\n",
       "      <th>1240</th>\n",
       "      <td>NIT Rourkela</td>\n",
       "      <td>Kolkata</td>\n",
       "      <td>Manager</td>\n",
       "      <td>67907.0</td>\n",
       "      <td>2</td>\n",
       "      <td>74</td>\n",
       "      <td>52</td>\n",
       "      <td>113508.80</td>\n",
       "    </tr>\n",
       "    <tr>\n",
       "      <th>1284</th>\n",
       "      <td>NIT Patna</td>\n",
       "      <td>Surat</td>\n",
       "      <td>Manager</td>\n",
       "      <td>65519.0</td>\n",
       "      <td>3</td>\n",
       "      <td>55</td>\n",
       "      <td>61</td>\n",
       "      <td>117307.70</td>\n",
       "    </tr>\n",
       "    <tr>\n",
       "      <th>1300</th>\n",
       "      <td>R.V. College of Engineering</td>\n",
       "      <td>Kolkata</td>\n",
       "      <td>Manager</td>\n",
       "      <td>59883.0</td>\n",
       "      <td>4</td>\n",
       "      <td>40</td>\n",
       "      <td>45</td>\n",
       "      <td>119585.49</td>\n",
       "    </tr>\n",
       "    <tr>\n",
       "      <th>1372</th>\n",
       "      <td>Jadavpur University</td>\n",
       "      <td>Pune</td>\n",
       "      <td>Manager</td>\n",
       "      <td>60894.0</td>\n",
       "      <td>4</td>\n",
       "      <td>80</td>\n",
       "      <td>28</td>\n",
       "      <td>118651.89</td>\n",
       "    </tr>\n",
       "    <tr>\n",
       "      <th>1523</th>\n",
       "      <td>NIT Sikkim</td>\n",
       "      <td>Chennai</td>\n",
       "      <td>Manager</td>\n",
       "      <td>70258.0</td>\n",
       "      <td>4</td>\n",
       "      <td>38</td>\n",
       "      <td>36</td>\n",
       "      <td>115126.75</td>\n",
       "    </tr>\n",
       "  </tbody>\n",
       "</table>\n",
       "</div>"
      ],
      "text/plain": [
       "                          College       City     Role  Previous CTC  \\\n",
       "34                 IIIT Hyderabad   Durgapur  Manager       60894.0   \n",
       "185                  IIIT Lucknow   Durgapur  Manager       70258.0   \n",
       "254               NIT Kurukshetra  Bangalore  Manager       51912.0   \n",
       "328             KIIT, Bhubaneswar   Kolhapur  Manager       62264.0   \n",
       "543             NSUT Delhi (NSIT)    Kolkata  Manager       73856.0   \n",
       "577        TIET/Thapar University    Chennai  Manager       59101.0   \n",
       "668                     IIT Delhi      Delhi  Manager       60476.0   \n",
       "883              Amity University    Chennai  Manager       64930.0   \n",
       "1146     BITS Pilani (Goa Campus)    Kolkata  Manager       61709.0   \n",
       "1230                 IIIT Lucknow    Asansol  Manager       60298.0   \n",
       "1240                 NIT Rourkela    Kolkata  Manager       67907.0   \n",
       "1284                    NIT Patna      Surat  Manager       65519.0   \n",
       "1300  R.V. College of Engineering    Kolkata  Manager       59883.0   \n",
       "1372          Jadavpur University       Pune  Manager       60894.0   \n",
       "1523                   NIT Sikkim    Chennai  Manager       70258.0   \n",
       "\n",
       "      Previous job change  Graduation Marks  EXP (Month)        CTC  \n",
       "34                      4                80           28  118651.89  \n",
       "185                     4                38           36  115126.75  \n",
       "254                     2                66           50  113141.14  \n",
       "328                     2                52           64  114996.23  \n",
       "543                     1                75           54  121362.73  \n",
       "577                     3                56           31  113843.16  \n",
       "668                     1                85           62  113212.07  \n",
       "883                     1                66           51  114939.65  \n",
       "1146                    4                39           60  117207.24  \n",
       "1230                    1                47           52  123416.99  \n",
       "1240                    2                74           52  113508.80  \n",
       "1284                    3                55           61  117307.70  \n",
       "1300                    4                40           45  119585.49  \n",
       "1372                    4                80           28  118651.89  \n",
       "1523                    4                38           36  115126.75  "
      ]
     },
     "execution_count": 14,
     "metadata": {},
     "output_type": "execute_result"
    }
   ],
   "source": [
    "df[(df['CTC'] > uv_ctc)]                                        # Finding all th values which has 'Previous CTC' above the 99% value"
   ]
  },
  {
   "cell_type": "code",
   "execution_count": 15,
   "id": "4dc0b13f-e7ba-4ff8-a09b-0c5d6c2daa2e",
   "metadata": {
    "tags": []
   },
   "outputs": [
    {
     "data": {
      "text/html": [
       "<div>\n",
       "<style scoped>\n",
       "    .dataframe tbody tr th:only-of-type {\n",
       "        vertical-align: middle;\n",
       "    }\n",
       "\n",
       "    .dataframe tbody tr th {\n",
       "        vertical-align: top;\n",
       "    }\n",
       "\n",
       "    .dataframe thead th {\n",
       "        text-align: right;\n",
       "    }\n",
       "</style>\n",
       "<table border=\"1\" class=\"dataframe\">\n",
       "  <thead>\n",
       "    <tr style=\"text-align: right;\">\n",
       "      <th></th>\n",
       "      <th>College</th>\n",
       "      <th>City</th>\n",
       "      <th>Role</th>\n",
       "      <th>Previous CTC</th>\n",
       "      <th>Previous job change</th>\n",
       "      <th>Graduation Marks</th>\n",
       "      <th>EXP (Month)</th>\n",
       "      <th>CTC</th>\n",
       "    </tr>\n",
       "  </thead>\n",
       "  <tbody>\n",
       "  </tbody>\n",
       "</table>\n",
       "</div>"
      ],
      "text/plain": [
       "Empty DataFrame\n",
       "Columns: [College, City, Role, Previous CTC, Previous job change, Graduation Marks, EXP (Month), CTC]\n",
       "Index: []"
      ]
     },
     "execution_count": 15,
     "metadata": {},
     "output_type": "execute_result"
    }
   ],
   "source": [
    "df[(df['CTC'] > 2*uv_ctc)]   # checking for extreme outliers which are more than 2 times the 99% value"
   ]
  },
  {
   "cell_type": "markdown",
   "id": "71e7a3cf-d450-4d2c-8566-1417bdf8effd",
   "metadata": {
    "tags": []
   },
   "source": [
    "### similar to 'Previous CTC' variable the the outlier values in 'CTC' are not extreme that is more than twice that of the 99% value"
   ]
  },
  {
   "cell_type": "markdown",
   "id": "82e633bc-0f12-4ac6-94c5-bf71b9b8decc",
   "metadata": {},
   "source": [
    "## SOME EXTRA VISUALIZATIONS TO UNDERSTAND THE DISTRIBUTION OF DATA "
   ]
  },
  {
   "cell_type": "code",
   "execution_count": 16,
   "id": "48c0dff2-4f92-47c7-a86d-5abd69752297",
   "metadata": {
    "tags": []
   },
   "outputs": [
    {
     "data": {
      "text/plain": [
       "<seaborn.axisgrid.JointGrid at 0x2240b1ca150>"
      ]
     },
     "execution_count": 16,
     "metadata": {},
     "output_type": "execute_result"
    },
    {
     "data": {
      "image/png": "[encoded data removed]",
      "text/plain": [
       "<Figure size 600x600 with 3 Axes>"
      ]
     },
     "metadata": {},
     "output_type": "display_data"
    },
    {
     "data": {
      "image/png": "[encoded data removed]",
      "text/plain": [
       "<Figure size 600x600 with 3 Axes>"
      ]
     },
     "metadata": {},
     "output_type": "display_data"
    }
   ],
   "source": [
    "sns.jointplot(df['Previous CTC'])                      # joint plot for 'Previous CTC' column\n",
    "sns.jointplot(df['CTC'])                               # joint plot for 'CTC' column"
   ]
  },
  {
   "cell_type": "code",
   "execution_count": 17,
   "id": "5977d2f3-bb2e-44a8-81f4-776e966ff233",
   "metadata": {
    "tags": []
   },
   "outputs": [
    {
     "data": {
      "text/plain": [
       "<Axes: xlabel='Role', ylabel='count'>"
      ]
     },
     "execution_count": 17,
     "metadata": {},
     "output_type": "execute_result"
    },
    {
     "data": {
      "image/png": "[encoded data removed]",
      "text/plain": [
       "<Figure size 640x480 with 1 Axes>"
      ]
     },
     "metadata": {},
     "output_type": "display_data"
    }
   ],
   "source": [
    "sns.countplot(data = df, x = 'Role')                   # countplot for the 'Role' column"
   ]
  },
  {
   "cell_type": "markdown",
   "id": "3e54b876-4fcf-493c-ba18-9fe3222ec8ea",
   "metadata": {},
   "source": [
    "### since the 'Role' column has both Manager and Executive values so we need not remove it"
   ]
  },
  {
   "cell_type": "markdown",
   "id": "0184efd1-6a75-4d37-b94e-18d564d7c6ef",
   "metadata": {},
   "source": [
    "## CONVERTING THE 'COLLEGE' AND 'CITY' FIELDS TO NUMERICAL VALUES"
   ]
  },
  {
   "cell_type": "code",
   "execution_count": 18,
   "id": "9949ca38-2fed-41b5-8917-e5afcd09a37a",
   "metadata": {
    "tags": []
   },
   "outputs": [],
   "source": [
    "tier1 = college['Tier 1'].to_list()  # converting the columns in college dataframe to lists\n",
    "tier2 = college['Tier 2'].to_list()\n",
    "tier3 = college['Tier 3'].to_list()"
   ]
  },
  {
   "cell_type": "code",
   "execution_count": 19,
   "id": "0fbd1671-f427-4a4c-877c-4dcb138240b6",
   "metadata": {
    "tags": []
   },
   "outputs": [
    {
     "data": {
      "text/plain": [
       "['IIT Bombay',\n",
       " 'IIT Delhi',\n",
       " 'IIT Kharagpur',\n",
       " 'IIT Madras',\n",
       " 'IIT Kanpur',\n",
       " 'IIT Roorkee',\n",
       " 'IIT Guwahati',\n",
       " 'IIIT Hyderabad',\n",
       " 'BITS Pilani (Pilani Campus)',\n",
       " 'IIT Indore',\n",
       " 'IIT Ropar',\n",
       " 'IIT BHU (Varanasi)',\n",
       " 'IIT ISM Dhanbad',\n",
       " 'DTU',\n",
       " 'NSUT Delhi (NSIT)',\n",
       " 'NIT Tiruchipally (Trichy)',\n",
       " 'NIT Warangal',\n",
       " 'NIT Surathkal (Karnataka)',\n",
       " 'Jadavpur University',\n",
       " 'BITS Pilani (Hyderabad Campus)',\n",
       " 'BITS Pilani (Goa Campus)',\n",
       " 'IIIT Allahabad',\n",
       " nan,\n",
       " nan,\n",
       " nan,\n",
       " nan,\n",
       " nan,\n",
       " nan]"
      ]
     },
     "execution_count": 19,
     "metadata": {},
     "output_type": "execute_result"
    }
   ],
   "source": [
    "tier1"
   ]
  },
  {
   "cell_type": "code",
   "execution_count": 20,
   "id": "7e4d99a5-41bf-4013-ac00-931998e607ce",
   "metadata": {},
   "outputs": [],
   "source": [
    "for item in df.College:  # replacing the values in the 'college' column of 'df' dataframe to numerical value according to the tier list\n",
    "    if item in tier1:\n",
    "        df['College'].replace(item,1,inplace=True)\n",
    "    elif item in tier2:\n",
    "        df['College'].replace(item,2,inplace=True)\n",
    "    elif item in tier3:\n",
    "        df['College'].replace(item,3,inplace=True)"
   ]
  },
  {
   "cell_type": "code",
   "execution_count": 21,
   "id": "0d34cdd8-1c8b-422a-a4f5-28f583afc3df",
   "metadata": {
    "tags": []
   },
   "outputs": [
    {
     "data": {
      "text/html": [
       "<div>\n",
       "<style scoped>\n",
       "    .dataframe tbody tr th:only-of-type {\n",
       "        vertical-align: middle;\n",
       "    }\n",
       "\n",
       "    .dataframe tbody tr th {\n",
       "        vertical-align: top;\n",
       "    }\n",
       "\n",
       "    .dataframe thead th {\n",
       "        text-align: right;\n",
       "    }\n",
       "</style>\n",
       "<table border=\"1\" class=\"dataframe\">\n",
       "  <thead>\n",
       "    <tr style=\"text-align: right;\">\n",
       "      <th></th>\n",
       "      <th>College</th>\n",
       "      <th>City</th>\n",
       "      <th>Role</th>\n",
       "      <th>Previous CTC</th>\n",
       "      <th>Previous job change</th>\n",
       "      <th>Graduation Marks</th>\n",
       "      <th>EXP (Month)</th>\n",
       "      <th>CTC</th>\n",
       "    </tr>\n",
       "  </thead>\n",
       "  <tbody>\n",
       "    <tr>\n",
       "      <th>0</th>\n",
       "      <td>2</td>\n",
       "      <td>Asansol</td>\n",
       "      <td>Manager</td>\n",
       "      <td>55523.0</td>\n",
       "      <td>3</td>\n",
       "      <td>66</td>\n",
       "      <td>19</td>\n",
       "      <td>71406.58</td>\n",
       "    </tr>\n",
       "    <tr>\n",
       "      <th>1</th>\n",
       "      <td>2</td>\n",
       "      <td>Ajmer</td>\n",
       "      <td>Executive</td>\n",
       "      <td>57081.0</td>\n",
       "      <td>1</td>\n",
       "      <td>84</td>\n",
       "      <td>18</td>\n",
       "      <td>68005.87</td>\n",
       "    </tr>\n",
       "    <tr>\n",
       "      <th>2</th>\n",
       "      <td>3</td>\n",
       "      <td>Rajpur Sonarpur</td>\n",
       "      <td>Executive</td>\n",
       "      <td>60347.0</td>\n",
       "      <td>2</td>\n",
       "      <td>52</td>\n",
       "      <td>28</td>\n",
       "      <td>76764.02</td>\n",
       "    </tr>\n",
       "    <tr>\n",
       "      <th>3</th>\n",
       "      <td>3</td>\n",
       "      <td>Ajmer</td>\n",
       "      <td>Executive</td>\n",
       "      <td>49010.0</td>\n",
       "      <td>2</td>\n",
       "      <td>81</td>\n",
       "      <td>33</td>\n",
       "      <td>82092.39</td>\n",
       "    </tr>\n",
       "    <tr>\n",
       "      <th>4</th>\n",
       "      <td>1</td>\n",
       "      <td>Durgapur</td>\n",
       "      <td>Executive</td>\n",
       "      <td>57879.0</td>\n",
       "      <td>4</td>\n",
       "      <td>74</td>\n",
       "      <td>32</td>\n",
       "      <td>73878.10</td>\n",
       "    </tr>\n",
       "  </tbody>\n",
       "</table>\n",
       "</div>"
      ],
      "text/plain": [
       "   College             City       Role  Previous CTC  Previous job change  \\\n",
       "0        2          Asansol    Manager       55523.0                    3   \n",
       "1        2            Ajmer  Executive       57081.0                    1   \n",
       "2        3  Rajpur Sonarpur  Executive       60347.0                    2   \n",
       "3        3            Ajmer  Executive       49010.0                    2   \n",
       "4        1         Durgapur  Executive       57879.0                    4   \n",
       "\n",
       "   Graduation Marks  EXP (Month)       CTC  \n",
       "0                66           19  71406.58  \n",
       "1                84           18  68005.87  \n",
       "2                52           28  76764.02  \n",
       "3                81           33  82092.39  \n",
       "4                74           32  73878.10  "
      ]
     },
     "execution_count": 21,
     "metadata": {},
     "output_type": "execute_result"
    }
   ],
   "source": [
    "df.head()"
   ]
  },
  {
   "cell_type": "code",
   "execution_count": 22,
   "id": "207a29c6-e400-4a1f-96f2-d323c3d99461",
   "metadata": {
    "tags": []
   },
   "outputs": [
    {
     "data": {
      "text/plain": [
       "array([2, 3, 1], dtype=int64)"
      ]
     },
     "execution_count": 22,
     "metadata": {},
     "output_type": "execute_result"
    }
   ],
   "source": [
    "df.College.unique() # checking the unique values of college field"
   ]
  },
  {
   "cell_type": "code",
   "execution_count": 23,
   "id": "47a74ff4-e2ab-4d87-bc29-a69673daa8bf",
   "metadata": {
    "tags": []
   },
   "outputs": [],
   "source": [
    "metro = city['Metrio City'].to_list() # converting the columns in the 'city' dataframe to list\n",
    "no_metro = city['non-metro cities'].to_list()"
   ]
  },
  {
   "cell_type": "code",
   "execution_count": 24,
   "id": "6d89270d-75fc-4f4c-9b51-54c554ba6d19",
   "metadata": {
    "tags": []
   },
   "outputs": [
    {
     "data": {
      "text/plain": [
       "['Mumbai',\n",
       " 'Delhi',\n",
       " 'Kolkata',\n",
       " 'Chennai',\n",
       " 'Bangalore',\n",
       " 'Hyderabad',\n",
       " 'Ahmedabad',\n",
       " 'Pune',\n",
       " 'Surat']"
      ]
     },
     "execution_count": 24,
     "metadata": {},
     "output_type": "execute_result"
    }
   ],
   "source": [
    "metro"
   ]
  },
  {
   "cell_type": "code",
   "execution_count": 25,
   "id": "dadaf042-bc7f-4875-b698-475e180bf17a",
   "metadata": {
    "tags": []
   },
   "outputs": [],
   "source": [
    "for item in df.City: # converting the 'city' column to numerical value\n",
    "    if item in metro:\n",
    "        df['City'].replace(item,1,inplace=True)\n",
    "    elif item in no_metro:\n",
    "        df['City'].replace(item,0,inplace=True)"
   ]
  },
  {
   "cell_type": "code",
   "execution_count": 26,
   "id": "ae5514ca-626b-48c3-881f-3da909d55362",
   "metadata": {
    "tags": []
   },
   "outputs": [
    {
     "data": {
      "text/html": [
       "<div>\n",
       "<style scoped>\n",
       "    .dataframe tbody tr th:only-of-type {\n",
       "        vertical-align: middle;\n",
       "    }\n",
       "\n",
       "    .dataframe tbody tr th {\n",
       "        vertical-align: top;\n",
       "    }\n",
       "\n",
       "    .dataframe thead th {\n",
       "        text-align: right;\n",
       "    }\n",
       "</style>\n",
       "<table border=\"1\" class=\"dataframe\">\n",
       "  <thead>\n",
       "    <tr style=\"text-align: right;\">\n",
       "      <th></th>\n",
       "      <th>College</th>\n",
       "      <th>City</th>\n",
       "      <th>Role</th>\n",
       "      <th>Previous CTC</th>\n",
       "      <th>Previous job change</th>\n",
       "      <th>Graduation Marks</th>\n",
       "      <th>EXP (Month)</th>\n",
       "      <th>CTC</th>\n",
       "    </tr>\n",
       "  </thead>\n",
       "  <tbody>\n",
       "    <tr>\n",
       "      <th>0</th>\n",
       "      <td>2</td>\n",
       "      <td>0</td>\n",
       "      <td>Manager</td>\n",
       "      <td>55523.0</td>\n",
       "      <td>3</td>\n",
       "      <td>66</td>\n",
       "      <td>19</td>\n",
       "      <td>71406.58</td>\n",
       "    </tr>\n",
       "    <tr>\n",
       "      <th>1</th>\n",
       "      <td>2</td>\n",
       "      <td>0</td>\n",
       "      <td>Executive</td>\n",
       "      <td>57081.0</td>\n",
       "      <td>1</td>\n",
       "      <td>84</td>\n",
       "      <td>18</td>\n",
       "      <td>68005.87</td>\n",
       "    </tr>\n",
       "    <tr>\n",
       "      <th>2</th>\n",
       "      <td>3</td>\n",
       "      <td>0</td>\n",
       "      <td>Executive</td>\n",
       "      <td>60347.0</td>\n",
       "      <td>2</td>\n",
       "      <td>52</td>\n",
       "      <td>28</td>\n",
       "      <td>76764.02</td>\n",
       "    </tr>\n",
       "    <tr>\n",
       "      <th>3</th>\n",
       "      <td>3</td>\n",
       "      <td>0</td>\n",
       "      <td>Executive</td>\n",
       "      <td>49010.0</td>\n",
       "      <td>2</td>\n",
       "      <td>81</td>\n",
       "      <td>33</td>\n",
       "      <td>82092.39</td>\n",
       "    </tr>\n",
       "    <tr>\n",
       "      <th>4</th>\n",
       "      <td>1</td>\n",
       "      <td>0</td>\n",
       "      <td>Executive</td>\n",
       "      <td>57879.0</td>\n",
       "      <td>4</td>\n",
       "      <td>74</td>\n",
       "      <td>32</td>\n",
       "      <td>73878.10</td>\n",
       "    </tr>\n",
       "  </tbody>\n",
       "</table>\n",
       "</div>"
      ],
      "text/plain": [
       "   College  City       Role  Previous CTC  Previous job change  \\\n",
       "0        2     0    Manager       55523.0                    3   \n",
       "1        2     0  Executive       57081.0                    1   \n",
       "2        3     0  Executive       60347.0                    2   \n",
       "3        3     0  Executive       49010.0                    2   \n",
       "4        1     0  Executive       57879.0                    4   \n",
       "\n",
       "   Graduation Marks  EXP (Month)       CTC  \n",
       "0                66           19  71406.58  \n",
       "1                84           18  68005.87  \n",
       "2                52           28  76764.02  \n",
       "3                81           33  82092.39  \n",
       "4                74           32  73878.10  "
      ]
     },
     "execution_count": 26,
     "metadata": {},
     "output_type": "execute_result"
    }
   ],
   "source": [
    "df.head()"
   ]
  },
  {
   "cell_type": "code",
   "execution_count": 27,
   "id": "6571d424-fc40-497d-b3dd-a410075e4322",
   "metadata": {
    "tags": []
   },
   "outputs": [
    {
     "name": "stdout",
     "output_type": "stream",
     "text": [
      "<class 'pandas.core.frame.DataFrame'>\n",
      "RangeIndex: 1589 entries, 0 to 1588\n",
      "Data columns (total 8 columns):\n",
      " #   Column               Non-Null Count  Dtype  \n",
      "---  ------               --------------  -----  \n",
      " 0   College              1589 non-null   int64  \n",
      " 1   City                 1589 non-null   int64  \n",
      " 2   Role                 1589 non-null   object \n",
      " 3   Previous CTC         1589 non-null   float64\n",
      " 4   Previous job change  1589 non-null   int64  \n",
      " 5   Graduation Marks     1589 non-null   int64  \n",
      " 6   EXP (Month)          1589 non-null   int64  \n",
      " 7   CTC                  1589 non-null   float64\n",
      "dtypes: float64(2), int64(5), object(1)\n",
      "memory usage: 99.4+ KB\n"
     ]
    }
   ],
   "source": [
    "df.info()                           # checking for null values and data type after the conversion to numerical values"
   ]
  },
  {
   "cell_type": "markdown",
   "id": "b6e612ce-133f-4cc7-8fb9-fdf2ba04ac4b",
   "metadata": {},
   "source": [
    "## CONVERTING THE VALUES IN THE 'Role' FIELD TO DUMMY VARIABLES"
   ]
  },
  {
   "cell_type": "code",
   "execution_count": 28,
   "id": "84e5a42d-1b68-4fcb-89e1-56d9bf8110c6",
   "metadata": {
    "tags": []
   },
   "outputs": [],
   "source": [
    "df1 = pd.get_dummies(df,columns = ['Role'],drop_first=True) #converting to dummy variables"
   ]
  },
  {
   "cell_type": "code",
   "execution_count": 29,
   "id": "5b996d89-129c-4caf-94c8-5c7bbcb2cb7b",
   "metadata": {
    "tags": []
   },
   "outputs": [
    {
     "data": {
      "text/html": [
       "<div>\n",
       "<style scoped>\n",
       "    .dataframe tbody tr th:only-of-type {\n",
       "        vertical-align: middle;\n",
       "    }\n",
       "\n",
       "    .dataframe tbody tr th {\n",
       "        vertical-align: top;\n",
       "    }\n",
       "\n",
       "    .dataframe thead th {\n",
       "        text-align: right;\n",
       "    }\n",
       "</style>\n",
       "<table border=\"1\" class=\"dataframe\">\n",
       "  <thead>\n",
       "    <tr style=\"text-align: right;\">\n",
       "      <th></th>\n",
       "      <th>College</th>\n",
       "      <th>City</th>\n",
       "      <th>Previous CTC</th>\n",
       "      <th>Previous job change</th>\n",
       "      <th>Graduation Marks</th>\n",
       "      <th>EXP (Month)</th>\n",
       "      <th>CTC</th>\n",
       "      <th>Role_Manager</th>\n",
       "    </tr>\n",
       "  </thead>\n",
       "  <tbody>\n",
       "    <tr>\n",
       "      <th>0</th>\n",
       "      <td>2</td>\n",
       "      <td>0</td>\n",
       "      <td>55523.0</td>\n",
       "      <td>3</td>\n",
       "      <td>66</td>\n",
       "      <td>19</td>\n",
       "      <td>71406.58</td>\n",
       "      <td>1</td>\n",
       "    </tr>\n",
       "    <tr>\n",
       "      <th>1</th>\n",
       "      <td>2</td>\n",
       "      <td>0</td>\n",
       "      <td>57081.0</td>\n",
       "      <td>1</td>\n",
       "      <td>84</td>\n",
       "      <td>18</td>\n",
       "      <td>68005.87</td>\n",
       "      <td>0</td>\n",
       "    </tr>\n",
       "    <tr>\n",
       "      <th>2</th>\n",
       "      <td>3</td>\n",
       "      <td>0</td>\n",
       "      <td>60347.0</td>\n",
       "      <td>2</td>\n",
       "      <td>52</td>\n",
       "      <td>28</td>\n",
       "      <td>76764.02</td>\n",
       "      <td>0</td>\n",
       "    </tr>\n",
       "    <tr>\n",
       "      <th>3</th>\n",
       "      <td>3</td>\n",
       "      <td>0</td>\n",
       "      <td>49010.0</td>\n",
       "      <td>2</td>\n",
       "      <td>81</td>\n",
       "      <td>33</td>\n",
       "      <td>82092.39</td>\n",
       "      <td>0</td>\n",
       "    </tr>\n",
       "    <tr>\n",
       "      <th>4</th>\n",
       "      <td>1</td>\n",
       "      <td>0</td>\n",
       "      <td>57879.0</td>\n",
       "      <td>4</td>\n",
       "      <td>74</td>\n",
       "      <td>32</td>\n",
       "      <td>73878.10</td>\n",
       "      <td>0</td>\n",
       "    </tr>\n",
       "  </tbody>\n",
       "</table>\n",
       "</div>"
      ],
      "text/plain": [
       "   College  City  Previous CTC  Previous job change  Graduation Marks  \\\n",
       "0        2     0       55523.0                    3                66   \n",
       "1        2     0       57081.0                    1                84   \n",
       "2        3     0       60347.0                    2                52   \n",
       "3        3     0       49010.0                    2                81   \n",
       "4        1     0       57879.0                    4                74   \n",
       "\n",
       "   EXP (Month)       CTC  Role_Manager  \n",
       "0           19  71406.58             1  \n",
       "1           18  68005.87             0  \n",
       "2           28  76764.02             0  \n",
       "3           33  82092.39             0  \n",
       "4           32  73878.10             0  "
      ]
     },
     "execution_count": 29,
     "metadata": {},
     "output_type": "execute_result"
    }
   ],
   "source": [
    "df1.head()"
   ]
  },
  {
   "cell_type": "code",
   "execution_count": 30,
   "id": "72bbf89b-bff4-4275-a7b2-b9f9b04e26b2",
   "metadata": {
    "tags": []
   },
   "outputs": [
    {
     "name": "stdout",
     "output_type": "stream",
     "text": [
      "<class 'pandas.core.frame.DataFrame'>\n",
      "RangeIndex: 1589 entries, 0 to 1588\n",
      "Data columns (total 8 columns):\n",
      " #   Column               Non-Null Count  Dtype  \n",
      "---  ------               --------------  -----  \n",
      " 0   College              1589 non-null   int64  \n",
      " 1   City                 1589 non-null   int64  \n",
      " 2   Previous CTC         1589 non-null   float64\n",
      " 3   Previous job change  1589 non-null   int64  \n",
      " 4   Graduation Marks     1589 non-null   int64  \n",
      " 5   EXP (Month)          1589 non-null   int64  \n",
      " 6   CTC                  1589 non-null   float64\n",
      " 7   Role_Manager         1589 non-null   uint8  \n",
      "dtypes: float64(2), int64(5), uint8(1)\n",
      "memory usage: 88.6 KB\n"
     ]
    }
   ],
   "source": [
    "df1.info()  "
   ]
  },
  {
   "cell_type": "markdown",
   "id": "bdbb765f-ef34-476d-bc3b-cbfd57fe3c27",
   "metadata": {},
   "source": [
    "### ALL the variables are now converted to numerical values for training the model"
   ]
  },
  {
   "cell_type": "markdown",
   "id": "424c27e8-d82e-4420-b711-9b46ac923a7e",
   "metadata": {},
   "source": [
    "## SPLITTING THE DATA INTO INDEPENDENT AND DEPENDENT(TARGET) VARIABLES X And y RESPECTIVLY"
   ]
  },
  {
   "cell_type": "code",
   "execution_count": 31,
   "id": "60079551-377c-46f3-8d30-6de905610c9c",
   "metadata": {
    "tags": []
   },
   "outputs": [],
   "source": [
    "X = df1.drop('CTC',axis=1)          # splitting the data into X and y\n",
    "y = df1.CTC"
   ]
  },
  {
   "cell_type": "code",
   "execution_count": 32,
   "id": "5ba8ab1c-f630-4406-80e6-a0866a6e59b9",
   "metadata": {
    "tags": []
   },
   "outputs": [
    {
     "data": {
      "text/html": [
       "<div>\n",
       "<style scoped>\n",
       "    .dataframe tbody tr th:only-of-type {\n",
       "        vertical-align: middle;\n",
       "    }\n",
       "\n",
       "    .dataframe tbody tr th {\n",
       "        vertical-align: top;\n",
       "    }\n",
       "\n",
       "    .dataframe thead th {\n",
       "        text-align: right;\n",
       "    }\n",
       "</style>\n",
       "<table border=\"1\" class=\"dataframe\">\n",
       "  <thead>\n",
       "    <tr style=\"text-align: right;\">\n",
       "      <th></th>\n",
       "      <th>College</th>\n",
       "      <th>City</th>\n",
       "      <th>Previous CTC</th>\n",
       "      <th>Previous job change</th>\n",
       "      <th>Graduation Marks</th>\n",
       "      <th>EXP (Month)</th>\n",
       "      <th>Role_Manager</th>\n",
       "    </tr>\n",
       "  </thead>\n",
       "  <tbody>\n",
       "    <tr>\n",
       "      <th>0</th>\n",
       "      <td>2</td>\n",
       "      <td>0</td>\n",
       "      <td>55523.0</td>\n",
       "      <td>3</td>\n",
       "      <td>66</td>\n",
       "      <td>19</td>\n",
       "      <td>1</td>\n",
       "    </tr>\n",
       "    <tr>\n",
       "      <th>1</th>\n",
       "      <td>2</td>\n",
       "      <td>0</td>\n",
       "      <td>57081.0</td>\n",
       "      <td>1</td>\n",
       "      <td>84</td>\n",
       "      <td>18</td>\n",
       "      <td>0</td>\n",
       "    </tr>\n",
       "    <tr>\n",
       "      <th>2</th>\n",
       "      <td>3</td>\n",
       "      <td>0</td>\n",
       "      <td>60347.0</td>\n",
       "      <td>2</td>\n",
       "      <td>52</td>\n",
       "      <td>28</td>\n",
       "      <td>0</td>\n",
       "    </tr>\n",
       "    <tr>\n",
       "      <th>3</th>\n",
       "      <td>3</td>\n",
       "      <td>0</td>\n",
       "      <td>49010.0</td>\n",
       "      <td>2</td>\n",
       "      <td>81</td>\n",
       "      <td>33</td>\n",
       "      <td>0</td>\n",
       "    </tr>\n",
       "    <tr>\n",
       "      <th>4</th>\n",
       "      <td>1</td>\n",
       "      <td>0</td>\n",
       "      <td>57879.0</td>\n",
       "      <td>4</td>\n",
       "      <td>74</td>\n",
       "      <td>32</td>\n",
       "      <td>0</td>\n",
       "    </tr>\n",
       "  </tbody>\n",
       "</table>\n",
       "</div>"
      ],
      "text/plain": [
       "   College  City  Previous CTC  Previous job change  Graduation Marks  \\\n",
       "0        2     0       55523.0                    3                66   \n",
       "1        2     0       57081.0                    1                84   \n",
       "2        3     0       60347.0                    2                52   \n",
       "3        3     0       49010.0                    2                81   \n",
       "4        1     0       57879.0                    4                74   \n",
       "\n",
       "   EXP (Month)  Role_Manager  \n",
       "0           19             1  \n",
       "1           18             0  \n",
       "2           28             0  \n",
       "3           33             0  \n",
       "4           32             0  "
      ]
     },
     "execution_count": 32,
     "metadata": {},
     "output_type": "execute_result"
    }
   ],
   "source": [
    "X.head()                            # contains independent variables"
   ]
  },
  {
   "cell_type": "code",
   "execution_count": 33,
   "id": "24166fac-eae2-46e2-a740-d30b73467fba",
   "metadata": {
    "tags": []
   },
   "outputs": [
    {
     "data": {
      "text/plain": [
       "0    71406.58\n",
       "1    68005.87\n",
       "2    76764.02\n",
       "3    82092.39\n",
       "4    73878.10\n",
       "Name: CTC, dtype: float64"
      ]
     },
     "execution_count": 33,
     "metadata": {},
     "output_type": "execute_result"
    }
   ],
   "source": [
    "y.head()                            # contains the dependent variable"
   ]
  },
  {
   "cell_type": "markdown",
   "id": "fded1b29-15fc-4366-95e1-bac9ab985c2d",
   "metadata": {},
   "source": [
    "## SPLITTING THE DATA INTO TRAIN AND TEST"
   ]
  },
  {
   "cell_type": "code",
   "execution_count": 34,
   "id": "0bf95112-7029-468e-80c1-a53144053ada",
   "metadata": {
    "tags": []
   },
   "outputs": [],
   "source": [
    "from sklearn.model_selection import train_test_split   #importing train_test_split"
   ]
  },
  {
   "cell_type": "code",
   "execution_count": 35,
   "id": "2aa2e1f7-4865-473e-be13-00508470fa2b",
   "metadata": {
    "tags": []
   },
   "outputs": [],
   "source": [
    "X_train,X_test,y_train,y_test = train_test_split(X,y,test_size=0.2,random_state=0)        # splitting the data into train and test"
   ]
  },
  {
   "cell_type": "code",
   "execution_count": 36,
   "id": "984c567d-4125-44db-b1e8-5111c582e350",
   "metadata": {
    "tags": []
   },
   "outputs": [
    {
     "data": {
      "text/plain": [
       "((1271, 7), (318, 7), (1271,), (318,))"
      ]
     },
     "execution_count": 36,
     "metadata": {},
     "output_type": "execute_result"
    }
   ],
   "source": [
    "X_train.shape,X_test.shape,y_train.shape,y_test.shape                                     # printing the shape"
   ]
  },
  {
   "cell_type": "markdown",
   "id": "2be42849-1751-4ed3-9d20-6fdb9c96ff92",
   "metadata": {},
   "source": [
    "## Scaling the data for any model that requires it"
   ]
  },
  {
   "cell_type": "code",
   "execution_count": 37,
   "id": "725d43dd-872a-47ae-bd28-a5425fd68ba7",
   "metadata": {
    "tags": []
   },
   "outputs": [],
   "source": [
    "from sklearn.preprocessing import StandardScaler                                          # importing standardscaler to scale the data"
   ]
  },
  {
   "cell_type": "code",
   "execution_count": 38,
   "id": "4e7c559a-b9fc-4176-8fc4-044f1d7ea630",
   "metadata": {
    "tags": []
   },
   "outputs": [],
   "source": [
    "scaler = StandardScaler().fit(X_train)                                                    # scaling the X_train data\n",
    "X_train_s = scaler.transform(X_train)"
   ]
  },
  {
   "cell_type": "code",
   "execution_count": 39,
   "id": "4998251a-1713-4432-a60e-3fe9f72a1339",
   "metadata": {
    "tags": []
   },
   "outputs": [],
   "source": [
    "scaler = StandardScaler().fit(X_test)                                                     # scaling the X_test data\n",
    "X_test_s = scaler.transform(X_test)"
   ]
  },
  {
   "cell_type": "code",
   "execution_count": 40,
   "id": "e5e29c9c-281d-4798-a932-9b92fb4ca284",
   "metadata": {
    "tags": []
   },
   "outputs": [
    {
     "data": {
      "text/plain": [
       "array([[-1.17773695, -1.02147362,  0.90628558, ...,  1.58202812,\n",
       "         1.40303652,  1.95304735],\n",
       "       [-1.17773695,  0.9789778 ,  0.66310061, ..., -0.9002232 ,\n",
       "         0.13018897, -0.51202036],\n",
       "       [-1.17773695, -1.02147362,  1.07214102, ...,  0.70988577,\n",
       "         1.40303652, -0.51202036],\n",
       "       ...,\n",
       "       [ 1.20586761,  0.9789778 , -0.38741666, ...,  1.3807645 ,\n",
       "         0.05947522, -0.51202036],\n",
       "       [-1.17773695, -1.02147362,  0.17613353, ...,  0.30735853,\n",
       "        -1.42551359, -0.51202036],\n",
       "       [-1.17773695,  0.9789778 , -2.19555438, ...,  0.10609491,\n",
       "        -0.43552105, -0.51202036]])"
      ]
     },
     "execution_count": 40,
     "metadata": {},
     "output_type": "execute_result"
    }
   ],
   "source": [
    "X_train_s"
   ]
  },
  {
   "cell_type": "markdown",
   "id": "6ad9a4be-73c9-4e8c-8e68-b92c758cdd2b",
   "metadata": {},
   "source": [
    "## TRAINING DIFFERENT MODELS TO DETERMINE THE BEST MODEL FOR THE PROBLEM"
   ]
  },
  {
   "cell_type": "code",
   "execution_count": 41,
   "id": "163bdeaa-accf-4bbf-a115-b73bd124d2f8",
   "metadata": {
    "tags": []
   },
   "outputs": [],
   "source": [
    "from sklearn.metrics import r2_score,mean_squared_error                             # importing r2_score and mse to measure the score"
   ]
  },
  {
   "cell_type": "code",
   "execution_count": 42,
   "id": "b6efe517-afd1-434c-b59d-9189bb5b78e2",
   "metadata": {
    "tags": []
   },
   "outputs": [],
   "source": [
    "from sklearn.model_selection import GridSearchCV                                    # importing GridSearchCV"
   ]
  },
  {
   "cell_type": "markdown",
   "id": "20893ee5-dc30-4071-9e26-f1bc5724c307",
   "metadata": {},
   "source": [
    "## LINEAR REGRESSION"
   ]
  },
  {
   "cell_type": "code",
   "execution_count": 43,
   "id": "b0539f2d-213b-4a63-a9a6-eea3f549e394",
   "metadata": {
    "tags": []
   },
   "outputs": [],
   "source": [
    "from sklearn.linear_model import LinearRegression                                   # importing linearRegression"
   ]
  },
  {
   "cell_type": "code",
   "execution_count": 44,
   "id": "918a2be6-c5e1-48c2-bafc-fff1d8f6d7d9",
   "metadata": {
    "tags": []
   },
   "outputs": [
    {
     "data": {
      "text/plain": [
       "({'copy_X': True, 'fit_intercept': True}, 0.5258185031375933)"
      ]
     },
     "execution_count": 44,
     "metadata": {},
     "output_type": "execute_result"
    }
   ],
   "source": [
    "linear_params = {                                                                   # params for Linear Regression\n",
    "    'fit_intercept': [True, False],\n",
    "    'copy_X': [True, False]\n",
    "}\n",
    "gv_lr = GridSearchCV(LinearRegression(),cv=5,param_grid =linear_params,n_jobs= -1)  # performing grid Search cv to find best parameters\n",
    "gv_lr.fit(X_train,y_train)\n",
    "gv_lr.best_params_, gv_lr.best_score_                                               # printing best parameters and its score"
   ]
  },
  {
   "cell_type": "code",
   "execution_count": 45,
   "id": "21984965-d532-4411-a7f6-ad944476a95b",
   "metadata": {
    "tags": []
   },
   "outputs": [
    {
     "name": "stdout",
     "output_type": "stream",
     "text": [
      "train: r2 = 0.5331293335456955,mse = 75086299.73658578\n",
      "test: r2 = 0.5355989894790061,mse = 68909870.69952606\n"
     ]
    }
   ],
   "source": [
    "lrr = gv_lr.best_estimator_                                                         # loading the best model with best parameters\n",
    "lrr.fit(X_train,y_train)\n",
    "print(f'train: r2 = {r2_score(y_train,lrr.predict(X_train))},mse = {mean_squared_error(y_train,lrr.predict(X_train))}')   # printing training score\n",
    "print(f'test: r2 = {r2_score(y_test,lrr.predict(X_test))},mse = {mean_squared_error(y_test,lrr.predict(X_test))}')        # printing test score"
   ]
  },
  {
   "cell_type": "code",
   "execution_count": 46,
   "id": "a16f0270-9016-44e9-8bec-359091bda148",
   "metadata": {
    "tags": []
   },
   "outputs": [
    {
     "data": {
      "text/plain": [
       "36989.4282547949"
      ]
     },
     "execution_count": 46,
     "metadata": {},
     "output_type": "execute_result"
    }
   ],
   "source": [
    "lrr.intercept_"
   ]
  },
  {
   "cell_type": "markdown",
   "id": "20647acb-2a7d-4006-82de-47a26165c8a9",
   "metadata": {
    "tags": []
   },
   "source": [
    "## RIDGE"
   ]
  },
  {
   "cell_type": "code",
   "execution_count": 47,
   "id": "224229ec-c89d-4fc8-bb56-9d2002d4df49",
   "metadata": {
    "tags": []
   },
   "outputs": [],
   "source": [
    "from sklearn.linear_model import Ridge                                             # importing Ridge regression"
   ]
  },
  {
   "cell_type": "code",
   "execution_count": 48,
   "id": "53e1c154-5f71-4dcd-86e4-396052317869",
   "metadata": {
    "tags": []
   },
   "outputs": [
    {
     "data": {
      "text/plain": [
       "({'alpha': 0.5, 'max_iter': 500}, 0.5258211449998715)"
      ]
     },
     "execution_count": 48,
     "metadata": {},
     "output_type": "execute_result"
    }
   ],
   "source": [
    "ridge_params = {                                                                   # parameter grid for ridge regression\n",
    "    'alpha': [0.001, 0.01,0.05, 0.1,0.2,0.5,0.7, 1, 10],\n",
    "    'max_iter': [500, 1000, 5000, 10000]\n",
    "}\n",
    "gv_rr = GridSearchCV(Ridge(),cv=5,param_grid =ridge_params,n_jobs= -1)             # performing grid Search cv to find best parameters\n",
    "gv_rr.fit(X_train,y_train)\n",
    "gv_rr.best_params_, gv_rr.best_score_                                              # printing best parameters and its score"
   ]
  },
  {
   "cell_type": "code",
   "execution_count": 49,
   "id": "14c0de63-a0e0-433a-b986-21539fabfff6",
   "metadata": {
    "tags": []
   },
   "outputs": [
    {
     "name": "stdout",
     "output_type": "stream",
     "text": [
      "train: r2 = 0.5331271617253823,mse = 75086649.0280764\n",
      "test: r2 = 0.5354822442766555,mse = 68927193.86768572\n"
     ]
    }
   ],
   "source": [
    "rr = gv_rr.best_estimator_\n",
    "rr.fit(X_train,y_train)\n",
    "print(f'train: r2 = {r2_score(y_train,rr.predict(X_train))},mse = {mean_squared_error(y_train,rr.predict(X_train))}')\n",
    "print(f'test: r2 = {r2_score(y_test,rr.predict(X_test))},mse = {mean_squared_error(y_test,rr.predict(X_test))}')     "
   ]
  },
  {
   "cell_type": "markdown",
   "id": "59c4fc9d-87be-4d0b-b4f0-7eeaef6ed2ad",
   "metadata": {},
   "source": [
    "## LASSO"
   ]
  },
  {
   "cell_type": "code",
   "execution_count": 50,
   "id": "56098c1d-a78d-4bca-b617-51b29df7fc84",
   "metadata": {
    "tags": []
   },
   "outputs": [],
   "source": [
    "from sklearn.linear_model import Lasso                                             # importing Lasso"
   ]
  },
  {
   "cell_type": "code",
   "execution_count": 51,
   "id": "e7970d35-dadb-4689-846d-99538f7662ef",
   "metadata": {
    "tags": []
   },
   "outputs": [
    {
     "data": {
      "text/plain": [
       "({'alpha': 10, 'max_iter': 100}, 0.525825033657993)"
      ]
     },
     "execution_count": 51,
     "metadata": {},
     "output_type": "execute_result"
    }
   ],
   "source": [
    "lasso_params = {                                                                   # parameter grid for Lasso\n",
    "    'alpha': [0.001, 0.01,0.05, 0.1, 0.5, 1, 10],\n",
    "    'max_iter': [100, 500, 1000, 5000, 10000]\n",
    "}\n",
    "gv_ll = GridSearchCV(Lasso(),cv=5,param_grid =lasso_params,n_jobs= -1)             # performing grid Search cv to find best parameters\n",
    "gv_ll.fit(X_train,y_train)\n",
    "gv_ll.best_params_, gv_ll.best_score_                                              # printing best parameters and its score"
   ]
  },
  {
   "cell_type": "code",
   "execution_count": 52,
   "id": "d60ba0f1-57a2-4720-9a97-3913b452a10a",
   "metadata": {
    "tags": []
   },
   "outputs": [
    {
     "name": "stdout",
     "output_type": "stream",
     "text": [
      "train: r2 = 0.5331217074776193,mse = 75087526.22879128\n",
      "test: r2 = 0.5357156319978797,mse = 68892562.76799372\n"
     ]
    }
   ],
   "source": [
    "ll = gv_ll.best_estimator_                                                         # loading the best model with best parameters\n",
    "ll.fit(X_train,y_train)\n",
    "print(f'train: r2 = {r2_score(y_train,ll.predict(X_train))},mse = {mean_squared_error(y_train,ll.predict(X_train))}')  # printing training score\n",
    "print(f'test: r2 = {r2_score(y_test,ll.predict(X_test))},mse = {mean_squared_error(y_test,ll.predict(X_test))}')       # printing test score"
   ]
  },
  {
   "cell_type": "markdown",
   "id": "1d39b572-dc73-4312-a177-a449648b360b",
   "metadata": {},
   "source": [
    "## KNeighbors Regression"
   ]
  },
  {
   "cell_type": "code",
   "execution_count": 53,
   "id": "25cb0eba-f67e-4567-a8a7-46e53c822b0c",
   "metadata": {
    "tags": []
   },
   "outputs": [],
   "source": [
    "from sklearn.neighbors import KNeighborsRegressor                                  # importing KNearestNeighbors Regression"
   ]
  },
  {
   "cell_type": "code",
   "execution_count": 54,
   "id": "e41bc91c-75e5-46bc-983d-5244bf405114",
   "metadata": {
    "tags": []
   },
   "outputs": [
    {
     "data": {
      "text/plain": [
       "({'algorithm': 'auto', 'n_neighbors': 25, 'p': 2, 'weights': 'uniform'},\n",
       " -29773.788000000008)"
      ]
     },
     "execution_count": 54,
     "metadata": {},
     "output_type": "execute_result"
    }
   ],
   "source": [
    "knn_params = {                                                                     # parameter grid for KNearest Neighbors regression\n",
    "    'n_neighbors': [3, 5, 7, 10, 15,20,25],\n",
    "    'weights': ['uniform', 'distance'],\n",
    "    'algorithm': ['auto', 'ball_tree', 'kd_tree', 'brute'],\n",
    "    'p': [1, 2]\n",
    "}\n",
    "gv_knn = GridSearchCV(KNeighborsRegressor(),knn_params,cv=5,n_jobs=-1,scoring='max_error')   # performing grid Search cv to find best parameters\n",
    "gv_knn.fit(X_train_s,y_train)\n",
    "gv_knn.best_params_, gv_knn.best_score_                                                      # printing best parameters and its score"
   ]
  },
  {
   "cell_type": "code",
   "execution_count": 55,
   "id": "e23bb15b-76de-4165-b228-3b8e46e25bca",
   "metadata": {
    "tags": []
   },
   "outputs": [
    {
     "name": "stdout",
     "output_type": "stream",
     "text": [
      "train: r2 = 0.5936403011892695,mse = 65354386.85299718\n",
      "test: r2 = 0.5683356025028306,mse = 64052267.63772096\n"
     ]
    }
   ],
   "source": [
    "knn = gv_knn.best_estimator_                                                                 # loading the best model with best parameters\n",
    "knn.fit(X_train_s,y_train)\n",
    "print(f'train: r2 = {r2_score(y_train,knn.predict(X_train_s))},mse = {mean_squared_error(y_train,knn.predict(X_train_s))}')  # printing training score\n",
    "print(f'test: r2 = {r2_score(y_test,knn.predict(X_test_s))},mse = {mean_squared_error(y_test,knn.predict(X_test_s))}')       # printing test score"
   ]
  },
  {
   "cell_type": "markdown",
   "id": "c749a5c3-5cfc-414d-a23b-00ac70859da0",
   "metadata": {},
   "source": [
    "## Decision Tree"
   ]
  },
  {
   "cell_type": "code",
   "execution_count": 56,
   "id": "bb4680e0-52b2-4d43-9632-b5febd8928b4",
   "metadata": {
    "tags": []
   },
   "outputs": [],
   "source": [
    "from sklearn import tree                                                                     # importing tree library"
   ]
  },
  {
   "cell_type": "code",
   "execution_count": 57,
   "id": "5c364c7f-0e09-42f9-8f0b-a6c29f267f34",
   "metadata": {
    "tags": []
   },
   "outputs": [
    {
     "data": {
      "text/plain": [
       "({'max_depth': 4, 'min_samples_leaf': 1, 'min_samples_split': 2},\n",
       " -29773.788000000008)"
      ]
     },
     "execution_count": 57,
     "metadata": {},
     "output_type": "execute_result"
    }
   ],
   "source": [
    "dt_params = {                                                                                # parameter grid for Decision tree regression\n",
    "    'max_depth': [None,2,5,3,4, 10, 20, 30],\n",
    "    'min_samples_split': [2, 5, 10],\n",
    "    'min_samples_leaf': [1, 2, 4]\n",
    "}\n",
    "gv_dt = GridSearchCV(tree.DecisionTreeRegressor(),dt_params,cv=5,n_jobs=-1)                  # performing grid Search cv to find best parameters\n",
    "gv_dt.fit(X_train,y_train)\n",
    "gv_dt.best_params_, gv_knn.best_score_                                                       # printing best parameters and its score"
   ]
  },
  {
   "cell_type": "code",
   "execution_count": 58,
   "id": "f00b13d7-df0c-4d51-8394-445fac278f3d",
   "metadata": {
    "tags": []
   },
   "outputs": [
    {
     "name": "stdout",
     "output_type": "stream",
     "text": [
      "train: r2 = 0.6397831325660944,mse = 57933285.64360235\n",
      "test: r2 = 0.6032204390654169,mse = 58875901.690099366\n"
     ]
    }
   ],
   "source": [
    "dtt = gv_dt.best_estimator_                                                                  # loading the best model with best parameters\n",
    "dtt.fit(X_train,y_train)\n",
    "print(f'train: r2 = {r2_score(y_train,dtt.predict(X_train))},mse = {mean_squared_error(y_train,dtt.predict(X_train))}')   # printing training score\n",
    "print(f'test: r2 = {r2_score(y_test,dtt.predict(X_test))},mse = {mean_squared_error(y_test,dtt.predict(X_test))}')         # printing test score"
   ]
  },
  {
   "cell_type": "markdown",
   "id": "8d1293ec-8454-4061-b749-c21178c4ec39",
   "metadata": {},
   "source": [
    "## RANDOM FOREST"
   ]
  },
  {
   "cell_type": "code",
   "execution_count": 59,
   "id": "3a06401c-69cb-423c-be3e-509c9aefd71b",
   "metadata": {
    "tags": []
   },
   "outputs": [],
   "source": [
    "from sklearn.ensemble import RandomForestRegressor                                           # importing Random Forest"
   ]
  },
  {
   "cell_type": "code",
   "execution_count": 60,
   "id": "8963dfec-6312-4cc2-a0a1-8c97184f24f4",
   "metadata": {
    "tags": []
   },
   "outputs": [
    {
     "data": {
      "text/plain": [
       "({'max_depth': 3,\n",
       "  'min_samples_leaf': 2,\n",
       "  'min_samples_split': 5,\n",
       "  'n_estimators': 50},\n",
       " -29405.320695776834)"
      ]
     },
     "execution_count": 60,
     "metadata": {},
     "output_type": "execute_result"
    }
   ],
   "source": [
    "rf_params = {                                                                                # parameter grid for Random Forest regression\n",
    "    'n_estimators': [50, 100, 200, 500],\n",
    "    'max_depth': [None,1,2,3,4,5],\n",
    "    'min_samples_split': [2, 5, 10],\n",
    "    'min_samples_leaf': [1, 2, 4]\n",
    "}\n",
    "gv_rf = GridSearchCV(RandomForestRegressor(),cv=5,param_grid =rf_params,n_jobs= -1,scoring='max_error')   # performing grid Search cv to find best parameters\n",
    "gv_rf.fit(X_train,y_train)\n",
    "gv_rf.best_params_,gv_rf.best_score_                                                                      # printing best parameters and its score"
   ]
  },
  {
   "cell_type": "code",
   "execution_count": 61,
   "id": "47b1a9a8-6843-415f-81e3-dda249e99c9d",
   "metadata": {
    "tags": []
   },
   "outputs": [
    {
     "name": "stdout",
     "output_type": "stream",
     "text": [
      "train: r2 = 0.6287878939841323,mse = 59701637.86438016\n",
      "test: r2 = 0.6146566418318207,mse = 57178947.47149778\n"
     ]
    }
   ],
   "source": [
    "rff = gv_rf.best_estimator_                                                                              # loading the best model with best parameters\n",
    "rff.fit(X_train,y_train)\n",
    "print(f'train: r2 = {r2_score(y_train,rff.predict(X_train))},mse = {mean_squared_error(y_train,rff.predict(X_train))}')     # printing training score\n",
    "print(f'test: r2 = {r2_score(y_test,rff.predict(X_test))},mse = {mean_squared_error(y_test,rff.predict(X_test))}')          # printing test score"
   ]
  },
  {
   "cell_type": "markdown",
   "id": "a13de505-b6e0-4ff1-ae9f-ed406c157b50",
   "metadata": {},
   "source": [
    "## BAGGING"
   ]
  },
  {
   "cell_type": "code",
   "execution_count": 62,
   "id": "23541c33-553a-4e43-a2eb-25dcbb599fc8",
   "metadata": {
    "tags": []
   },
   "outputs": [],
   "source": [
    "from sklearn.ensemble import BaggingRegressor                                                 # importing Bagging Regressor           "
   ]
  },
  {
   "cell_type": "code",
   "execution_count": 63,
   "id": "91775ca5-892a-4e34-9d1f-18781e35905f",
   "metadata": {
    "tags": []
   },
   "outputs": [
    {
     "data": {
      "text/plain": [
       "({'bootstrap': True,\n",
       "  'max_features': 1.0,\n",
       "  'max_samples': 0.1,\n",
       "  'n_estimators': 500},\n",
       " -29762.991512)"
      ]
     },
     "execution_count": 63,
     "metadata": {},
     "output_type": "execute_result"
    }
   ],
   "source": [
    "bagging_params = {                                                                            # parameter grid for Bagging regression\n",
    "    'n_estimators': [100, 200, 500],\n",
    "    'max_samples': [0.1,0.2,0.5,1.0],\n",
    "    'max_features': [0.1,0.2,0.5,1.0],\n",
    "    'bootstrap': [True, False]\n",
    "}\n",
    "gv_bag = GridSearchCV(BaggingRegressor(),cv=5,param_grid =bagging_params,n_jobs= -1,scoring='max_error')  # performing grid Search cv to find best parameters\n",
    "gv_bag.fit(X_train,y_train)\n",
    "gv_bag.best_params_,gv_bag.best_score_                                                                    # printing best parameters and its score"
   ]
  },
  {
   "cell_type": "code",
   "execution_count": 64,
   "id": "d08b8a16-a28e-46d4-9b8d-7213cb234403",
   "metadata": {
    "tags": []
   },
   "outputs": [
    {
     "name": "stdout",
     "output_type": "stream",
     "text": [
      "train: r2 = 0.6827725514218301,mse = 51019344.3282952\n",
      "test: r2 = 0.620684206227421,mse = 56284550.875185646\n"
     ]
    }
   ],
   "source": [
    "bag = gv_bag.best_estimator_                                                                        # loading the best model with best parameters\n",
    "bag.fit(X_train,y_train)\n",
    "print(f'train: r2 = {r2_score(y_train,bag.predict(X_train))},mse = {mean_squared_error(y_train,bag.predict(X_train))}')   # printing training score\n",
    "print(f'test: r2 = {r2_score(y_test,bag.predict(X_test))},mse = {mean_squared_error(y_test,bag.predict(X_test))}')        # printing test score"
   ]
  },
  {
   "cell_type": "markdown",
   "id": "ad996c17-35a0-4842-b304-a5e4af540058",
   "metadata": {},
   "source": [
    "## Gradient Boost"
   ]
  },
  {
   "cell_type": "code",
   "execution_count": 65,
   "id": "5339a010-da97-4c4c-a323-68f609b6cf6c",
   "metadata": {
    "tags": []
   },
   "outputs": [],
   "source": [
    "from sklearn.ensemble import GradientBoostingRegressor                                              # importing Gradient Boost"
   ]
  },
  {
   "cell_type": "code",
   "execution_count": 66,
   "id": "464ae307-3d6b-46ea-82ca-8dd1ada584a9",
   "metadata": {
    "tags": []
   },
   "outputs": [
    {
     "data": {
      "text/plain": [
       "({'learning_rate': 0.02,\n",
       "  'max_depth': 3,\n",
       "  'min_samples_leaf': 4,\n",
       "  'min_samples_split': 5,\n",
       "  'n_estimators': 100,\n",
       "  'subsample': 0.8},\n",
       " -28632.28093471973)"
      ]
     },
     "execution_count": 66,
     "metadata": {},
     "output_type": "execute_result"
    }
   ],
   "source": [
    "gb_params = {                                                                                       # parameter grid for Gradient Boost regression\n",
    "    'n_estimators': [50, 100, 200, 500],\n",
    "    'learning_rate': [0.01,0.02, 0.05, 0.1, 0.5,0.2],\n",
    "    'max_depth': [3, 5, 7],\n",
    "    'subsample': [0.8, 1.0],\n",
    "    'min_samples_split': [2, 5, 10],\n",
    "    'min_samples_leaf': [1, 2, 4]\n",
    "}\n",
    "gv_gb = GridSearchCV(GradientBoostingRegressor(),cv=5,param_grid =gb_params,n_jobs= -1,scoring='max_error')  # performing grid Search cv to find best parameters\n",
    "gv_gb.fit(X_train,y_train)\n",
    "gv_gb.best_params_,gv_gb.best_score_                                                                         # printing best parameters and its score"
   ]
  },
  {
   "cell_type": "code",
   "execution_count": 67,
   "id": "87907784-22ea-495b-8a67-9330d5b63a6f",
   "metadata": {
    "tags": []
   },
   "outputs": [
    {
     "name": "stdout",
     "output_type": "stream",
     "text": [
      "train: r2 = 0.6335849307470578,mse = 58930135.67735273\n",
      "test: r2 = 0.6071138862409677,mse = 58298174.82180153\n"
     ]
    }
   ],
   "source": [
    "gb = gv_gb.best_estimator_                                                                  # loading the best model with best parameters\n",
    "gb.fit(X_train,y_train)\n",
    "print(f'train: r2 = {r2_score(y_train,gb.predict(X_train))},mse = {mean_squared_error(y_train,gb.predict(X_train))}')   # printing training score\n",
    "print(f'test: r2 = {r2_score(y_test,gb.predict(X_test))},mse = {mean_squared_error(y_test,gb.predict(X_test))}')        # printing test score"
   ]
  },
  {
   "cell_type": "markdown",
   "id": "8708677c-a36f-49b9-938b-bc13a2324ee5",
   "metadata": {},
   "source": [
    "## ADA BOOST"
   ]
  },
  {
   "cell_type": "code",
   "execution_count": 68,
   "id": "f8c27a56-b07a-4d38-be98-ebc0f55b428f",
   "metadata": {},
   "outputs": [],
   "source": [
    "from sklearn.ensemble import AdaBoostRegressor                                              # importing Ada Boost Regressor"
   ]
  },
  {
   "cell_type": "code",
   "execution_count": 69,
   "id": "b4ccb5d2-a9fc-4453-a73c-f3ab83a67f3c",
   "metadata": {
    "tags": []
   },
   "outputs": [
    {
     "data": {
      "text/plain": [
       "({'learning_rate': 0.01, 'n_estimators': 100}, 0.5960827354215101)"
      ]
     },
     "execution_count": 69,
     "metadata": {},
     "output_type": "execute_result"
    }
   ],
   "source": [
    "ada_params = {                                                                              # parameter grid for Ada boost regression\n",
    "    'n_estimators': [50, 100, 200, 500],\n",
    "    'learning_rate': [0.01,0.02, 0.05, 0.1, 0.5, 0.2]\n",
    "}\n",
    "\n",
    "gv_ada = GridSearchCV(AdaBoostRegressor(),cv=5,param_grid =ada_params,n_jobs= -1,scoring='r2')  # performing grid Search cv to find best parameters\n",
    "gv_ada.fit(X_train,y_train)\n",
    "gv_ada.best_params_,gv_ada.best_score_                                                          # printing best parameters and its score"
   ]
  },
  {
   "cell_type": "code",
   "execution_count": 70,
   "id": "588af21c-0fce-4bac-9a10-a3016000a2b0",
   "metadata": {
    "tags": []
   },
   "outputs": [
    {
     "name": "stdout",
     "output_type": "stream",
     "text": [
      "train: r2 = 0.6251234319869312,mse = 60290989.28794425\n",
      "test: r2 = 0.6144195616813302,mse = 57214126.47013387\n"
     ]
    }
   ],
   "source": [
    "ada = gv_ada.best_estimator_                                                                   # loading the best model with best parameters\n",
    "ada.fit(X_train,y_train)\n",
    "print(f'train: r2 = {r2_score(y_train,ada.predict(X_train))},mse = {mean_squared_error(y_train,ada.predict(X_train))}')  # printing training score\n",
    "print(f'test: r2 = {r2_score(y_test,ada.predict(X_test))},mse = {mean_squared_error(y_test,ada.predict(X_test))}')        # printing test score"
   ]
  },
  {
   "cell_type": "markdown",
   "id": "14c2a2ff-4093-4152-b70c-2dd4e30cfdb8",
   "metadata": {},
   "source": [
    "## XGBOOST"
   ]
  },
  {
   "cell_type": "code",
   "execution_count": 71,
   "id": "d832784e-a22b-4138-96ad-27d1e95e7a1a",
   "metadata": {
    "tags": []
   },
   "outputs": [],
   "source": [
    "import xgboost as xgb                                                                          # importing XGBoost "
   ]
  },
  {
   "cell_type": "code",
   "execution_count": 72,
   "id": "3dd1c612-50c7-412c-95cc-a5e7630eacf1",
   "metadata": {
    "tags": []
   },
   "outputs": [
    {
     "data": {
      "text/plain": [
       "({'learning_rate': 0.1,\n",
       "  'max_depth': 3,\n",
       "  'min_child_weight': 5,\n",
       "  'n_estimators': 50,\n",
       "  'subsample': 1.0},\n",
       " -29894.8919375)"
      ]
     },
     "execution_count": 72,
     "metadata": {},
     "output_type": "execute_result"
    }
   ],
   "source": [
    "xgb_params = {                                                                                 # parameter grid for XGBoost regression\n",
    "    'n_estimators': [50, 100, 200, 500],\n",
    "    'learning_rate': [0.01,0.2, 0.05, 0.1, 0.5, 0.2],\n",
    "    'max_depth': [3, 5, 7],\n",
    "    'subsample': [0.8, 1.0],\n",
    "    'min_child_weight': [1, 3, 5]\n",
    "}\n",
    "\n",
    "gv_xgb = GridSearchCV(xgb.XGBRegressor(),cv=5,param_grid =xgb_params,n_jobs= -1,scoring='max_error')   # performing grid Search cv to find best parameters\n",
    "gv_xgb.fit(X_train,y_train)\n",
    "gv_xgb.best_params_,gv_xgb.best_score_                                                                 # printing best parameters and its score"
   ]
  },
  {
   "cell_type": "code",
   "execution_count": 73,
   "id": "266272ae-5763-430e-b649-9b6205c2095a",
   "metadata": {
    "tags": []
   },
   "outputs": [
    {
     "name": "stdout",
     "output_type": "stream",
     "text": [
      "train: r2 = 0.6715064833366085,mse = 52831253.76249506\n",
      "test: r2 = 0.6109878145790599,mse = 57723344.24471541\n"
     ]
    }
   ],
   "source": [
    "xgb = gv_xgb.best_estimator_                                                                       # loading the best model with best parameters\n",
    "xgb.fit(X_train,y_train)\n",
    "print(f'train: r2 = {r2_score(y_train,xgb.predict(X_train))},mse = {mean_squared_error(y_train,xgb.predict(X_train))}')  # printing training score\n",
    "print(f'test: r2 = {r2_score(y_test,xgb.predict(X_test))},mse = {mean_squared_error(y_test,xgb.predict(X_test))}')       # printing test score"
   ]
  },
  {
   "cell_type": "markdown",
   "id": "3881ea1d-f649-48ff-b6b9-f3bd7e8d62c7",
   "metadata": {},
   "source": [
    "## Bagging model gave the top r2_score"
   ]
  },
  {
   "cell_type": "code",
   "execution_count": null,
   "id": "eae2af86-eeb0-44d2-b575-9b0036bc3425",
   "metadata": {},
   "outputs": [],
   "source": []
  },
  {
   "cell_type": "markdown",
   "id": "a3139dcf-1a65-48a4-8a2c-a7d9abc94f45",
   "metadata": {},
   "source": [
    "# 1. Your views about the problem statement?"
   ]
  },
  {
   "cell_type": "markdown",
   "id": "adec59e6-40e4-44b8-9ed1-f36e8ebe19ba",
   "metadata": {},
   "source": [
    "### Problem Statement: Create a machine learning model which will help the company in determining the salary of newly hired employees using the given data.\n",
    "### I think it is good to determine the CTC for employees using machine learning model for the following reasons:\n",
    "### 1. since ML models does not have human emotions it would give the best result when determining the CTC without any partiality. \n",
    "### 2. Once trained with enough correct data the ML model will make the work easy and effective. \n",
    "### 3. Can handle a large amount of workload without getting tired."
   ]
  },
  {
   "cell_type": "code",
   "execution_count": null,
   "id": "349b3b37-19ef-4c30-b866-6a054d82abde",
   "metadata": {},
   "outputs": [],
   "source": []
  },
  {
   "cell_type": "markdown",
   "id": "f1983972-506e-48fc-ae4b-8c3ef6ff3313",
   "metadata": {},
   "source": [
    "# 2. What will be your approach to solving this task?"
   ]
  },
  {
   "cell_type": "markdown",
   "id": "e9e46c97-9904-404b-9aa7-808d1062f101",
   "metadata": {},
   "source": [
    "### 1. Gathering the data: that is collecting required data in csv files.\n",
    "### 2. Data preprocessing: to read the files, then check for missing values if found treat the missing values next find if there are any outliers in the data if found treat or scale them so they do not effect the model negativly.\n",
    "### 3. Data visualization: this helps in finding outliers as well as finding which columns to keep or not, we also get to know the data distribution.\n",
    "### 4. Dummy variables: creating dummuy variables for all the categorical columns in the data.\n",
    "### 5. Splitting Data: split the data into X and y and then split into train and test to check the effectivness of the model with the test data.\n",
    "### 6. Model training: Train all the available models depending on the requirements then find the one which does not overfit and gives best score"
   ]
  },
  {
   "cell_type": "code",
   "execution_count": null,
   "id": "dcf9659a-1f58-40a2-b97b-8462e595ea1f",
   "metadata": {},
   "outputs": [],
   "source": []
  },
  {
   "cell_type": "markdown",
   "id": "e0b4df11-2612-4d20-a7d7-7fd420accfba",
   "metadata": {},
   "source": [
    "# 3. What were the available ML model options you had to perform this task?"
   ]
  },
  {
   "cell_type": "markdown",
   "id": "8cca79e1-e76c-4609-8fe1-8b2c41ecbbd7",
   "metadata": {},
   "source": [
    "### There are many available models some of them which I know and used in the project are:\n",
    "1. Linear Regression\n",
    "2. Ridge Regression\n",
    "3. Lasso\n",
    "4. KNearest Regression\n",
    "5. Decision Tree Regression\n",
    "6. Bagging Regression\n",
    "7. Gradient Boosting Regression\n",
    "8. Ada Boosting Regression\n",
    "9. XGBoost Regression"
   ]
  },
  {
   "cell_type": "code",
   "execution_count": null,
   "id": "17d0c93b-fa02-4942-8261-1ac3f6adb747",
   "metadata": {},
   "outputs": [],
   "source": []
  },
  {
   "cell_type": "markdown",
   "id": "27a46176-e49e-439a-bfe9-fa0438a213f1",
   "metadata": {},
   "source": [
    "# 4. Which model’s performance is best and what could be the possible reason for that?"
   ]
  },
  {
   "cell_type": "markdown",
   "id": "91f7964b-776d-4518-8783-2036d8af5f7d",
   "metadata": {},
   "source": [
    "### When I trained all the regression models BAGGING REGRESSION model gave me the best result that is the r2_score without any overfitting when compared to all the other models. The difference was not much large but still it performed well.\n",
    "### the possible reasons could be:\n",
    "#### 1. Because it is a ensemble method where the result is based on the aggregate of multiple models and not on a single model.\n",
    "#### 2. Maybe because of the hyperparameters choosen during the model training"
   ]
  },
  {
   "cell_type": "code",
   "execution_count": null,
   "id": "ac427d89-1445-44a7-9d7e-41c9daf4752b",
   "metadata": {},
   "outputs": [],
   "source": []
  },
  {
   "cell_type": "markdown",
   "id": "1ea5dd2b-eb89-429f-9b4a-bae532411264",
   "metadata": {},
   "source": [
    "# 5. What steps can you take to improve this selected model’s performance even further?\n"
   ]
  },
  {
   "cell_type": "markdown",
   "id": "40c1bace-8d46-4206-a0f5-fac566e22869",
   "metadata": {},
   "source": [
    "## There are many methods to improve a model's performance:\n",
    "### 1. We can try to increase the data size available to us and it should be more accurate.\n",
    "### 2. We can try to increase the performance by changing the hyperparameters of the model, through this we can not only increase model performance we can also decrease overfitting.\n",
    "### 3. Lastly we can also try to improve the data preprocessing like handling outliers etc."
   ]
  },
  {
   "cell_type": "code",
   "execution_count": 91,
   "id": "6ba6ee6b-9f3c-4c17-9b7d-abb3d6d5066e",
   "metadata": {},
   "outputs": [
    {
     "data": {
      "text/plain": [
       "({'bootstrap': False,\n",
       "  'max_features': 1.0,\n",
       "  'max_samples': 0.1,\n",
       "  'n_estimators': 500},\n",
       " -29983.42044399998)"
      ]
     },
     "execution_count": 91,
     "metadata": {},
     "output_type": "execute_result"
    }
   ],
   "source": [
    "bagging_params = {                                                                            # parameter grid for Bagging regression\n",
    "    'n_estimators': [100,150,250, 200, 500],\n",
    "    'max_samples': [0.1,0.2,0.5,1.0],\n",
    "    'max_features': [0.1,0.2,0.5,1.0],\n",
    "    'bootstrap': [True, False]\n",
    "}\n",
    "gv_bag = GridSearchCV(BaggingRegressor(),cv=5,param_grid =bagging_params,n_jobs= -1,scoring='max_error')\n",
    "gv_bag.fit(X_train,y_train)\n",
    "gv_bag.best_params_,gv_bag.best_score_"
   ]
  },
  {
   "cell_type": "code",
   "execution_count": 92,
   "id": "b2265fb9-52ce-42de-971f-3241ebe1daea",
   "metadata": {
    "tags": []
   },
   "outputs": [
    {
     "name": "stdout",
     "output_type": "stream",
     "text": [
      "train: r2 = 0.6858700135998628,mse = 50521182.866816305\n",
      "test: r2 = 0.6219645845793544,mse = 56094562.68678956\n"
     ]
    }
   ],
   "source": [
    "bag = gv_bag.best_estimator_\n",
    "bag.fit(X_train,y_train)\n",
    "print(f'train: r2 = {r2_score(y_train,bag.predict(X_train))},mse = {mean_squared_error(y_train,bag.predict(X_train))}')\n",
    "print(f'test: r2 = {r2_score(y_test,bag.predict(X_test))},mse = {mean_squared_error(y_test,bag.predict(X_test))}')           # printing the scores"
   ]
  },
  {
   "cell_type": "code",
   "execution_count": null,
   "id": "109604fb-72ce-4e27-bb44-2e7dc1d4c241",
   "metadata": {},
   "outputs": [],
   "source": []
  }
 ],
 "metadata": {
  "kernelspec": {
   "display_name": "Python 3 (ipykernel)",
   "language": "python",
   "name": "python3"
  },
  "language_info": {
   "codemirror_mode": {
    "name": "ipython",
    "version": 3
   },
   "file_extension": ".py",
   "mimetype": "text/x-python",
   "name": "python",
   "nbconvert_exporter": "python",
   "pygments_lexer": "ipython3",
   "version": "3.11.4"
  }
 },
 "nbformat": 4,
 "nbformat_minor": 5
}
